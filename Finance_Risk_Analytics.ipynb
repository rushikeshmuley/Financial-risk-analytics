{
  "nbformat": 4,
  "nbformat_minor": 0,
  "metadata": {
    "colab": {
      "provenance": []
    },
    "kernelspec": {
      "name": "python3",
      "display_name": "Python 3"
    },
    "language_info": {
      "name": "python"
    }
  },
  "cells": [
    {
      "cell_type": "markdown",
      "source": [
        "# ![finance.jpg](data:image/jpeg;base64,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)![1.jpg](data:image/jpeg;base64,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)"
      ],
      "metadata": {
        "id": "hLk80_DSm-Oi"
      }
    },
    {
      "cell_type": "code",
      "execution_count": null,
      "metadata": {
        "id": "lqVbcaJb6aRe"
      },
      "outputs": [],
      "source": [
        "# importing libraries"
      ]
    },
    {
      "cell_type": "markdown",
      "source": [],
      "metadata": {
        "id": "ZhZtz58kn8JS"
      }
    },
    {
      "cell_type": "code",
      "source": [
        "import numpy as np\n",
        "import pandas as pd\n",
        "import matplotlib.pyplot as plt\n",
        "import seaborn as sns\n",
        "color=sns.color_palette()\n",
        "import sklearn.metrics as matrics\n",
        "\n",
        "import warnings\n",
        "warnings.filterwarnings(\"ignore\")"
      ],
      "metadata": {
        "id": "OxvX_6BRZPtz"
      },
      "execution_count": null,
      "outputs": []
    },
    {
      "cell_type": "code",
      "source": [
        "# import  the dataset"
      ],
      "metadata": {
        "id": "RKsIkZfYZtbS"
      },
      "execution_count": null,
      "outputs": []
    },
    {
      "cell_type": "code",
      "source": [
        "df=pd.read_csv(\"Default.csv\")"
      ],
      "metadata": {
        "id": "3Uz5hf4jZ1uk"
      },
      "execution_count": null,
      "outputs": []
    },
    {
      "cell_type": "code",
      "source": [
        "df.head()"
      ],
      "metadata": {
        "colab": {
          "base_uri": "https://localhost:8080/",
          "height": 206
        },
        "id": "9tuN5SHOaWyW",
        "outputId": "100c86fb-c202-4a28-dc16-2f5ba932e196"
      },
      "execution_count": null,
      "outputs": [
        {
          "output_type": "execute_result",
          "data": {
            "text/plain": [
              "  default student  balance    income\n",
              "0      No      No   729.53  44361.63\n",
              "1      No     Yes   817.18  12106.13\n",
              "2      No      No  1073.55  31767.14\n",
              "3      No      No   529.25  35704.49\n",
              "4      No      No   785.66  38463.50"
            ],
            "text/html": [
              "\n",
              "  <div id=\"df-bce8386c-a818-451c-bf46-03875bf7738d\" class=\"colab-df-container\">\n",
              "    <div>\n",
              "<style scoped>\n",
              "    .dataframe tbody tr th:only-of-type {\n",
              "        vertical-align: middle;\n",
              "    }\n",
              "\n",
              "    .dataframe tbody tr th {\n",
              "        vertical-align: top;\n",
              "    }\n",
              "\n",
              "    .dataframe thead th {\n",
              "        text-align: right;\n",
              "    }\n",
              "</style>\n",
              "<table border=\"1\" class=\"dataframe\">\n",
              "  <thead>\n",
              "    <tr style=\"text-align: right;\">\n",
              "      <th></th>\n",
              "      <th>default</th>\n",
              "      <th>student</th>\n",
              "      <th>balance</th>\n",
              "      <th>income</th>\n",
              "    </tr>\n",
              "  </thead>\n",
              "  <tbody>\n",
              "    <tr>\n",
              "      <th>0</th>\n",
              "      <td>No</td>\n",
              "      <td>No</td>\n",
              "      <td>729.53</td>\n",
              "      <td>44361.63</td>\n",
              "    </tr>\n",
              "    <tr>\n",
              "      <th>1</th>\n",
              "      <td>No</td>\n",
              "      <td>Yes</td>\n",
              "      <td>817.18</td>\n",
              "      <td>12106.13</td>\n",
              "    </tr>\n",
              "    <tr>\n",
              "      <th>2</th>\n",
              "      <td>No</td>\n",
              "      <td>No</td>\n",
              "      <td>1073.55</td>\n",
              "      <td>31767.14</td>\n",
              "    </tr>\n",
              "    <tr>\n",
              "      <th>3</th>\n",
              "      <td>No</td>\n",
              "      <td>No</td>\n",
              "      <td>529.25</td>\n",
              "      <td>35704.49</td>\n",
              "    </tr>\n",
              "    <tr>\n",
              "      <th>4</th>\n",
              "      <td>No</td>\n",
              "      <td>No</td>\n",
              "      <td>785.66</td>\n",
              "      <td>38463.50</td>\n",
              "    </tr>\n",
              "  </tbody>\n",
              "</table>\n",
              "</div>\n",
              "    <div class=\"colab-df-buttons\">\n",
              "\n",
              "  <div class=\"colab-df-container\">\n",
              "    <button class=\"colab-df-convert\" onclick=\"convertToInteractive('df-bce8386c-a818-451c-bf46-03875bf7738d')\"\n",
              "            title=\"Convert this dataframe to an interactive table.\"\n",
              "            style=\"display:none;\">\n",
              "\n",
              "  <svg xmlns=\"http://www.w3.org/2000/svg\" height=\"24px\" viewBox=\"0 -960 960 960\">\n",
              "    <path d=\"M120-120v-720h720v720H120Zm60-500h600v-160H180v160Zm220 220h160v-160H400v160Zm0 220h160v-160H400v160ZM180-400h160v-160H180v160Zm440 0h160v-160H620v160ZM180-180h160v-160H180v160Zm440 0h160v-160H620v160Z\"/>\n",
              "  </svg>\n",
              "    </button>\n",
              "\n",
              "  <style>\n",
              "    .colab-df-container {\n",
              "      display:flex;\n",
              "      gap: 12px;\n",
              "    }\n",
              "\n",
              "    .colab-df-convert {\n",
              "      background-color: #E8F0FE;\n",
              "      border: none;\n",
              "      border-radius: 50%;\n",
              "      cursor: pointer;\n",
              "      display: none;\n",
              "      fill: #1967D2;\n",
              "      height: 32px;\n",
              "      padding: 0 0 0 0;\n",
              "      width: 32px;\n",
              "    }\n",
              "\n",
              "    .colab-df-convert:hover {\n",
              "      background-color: #E2EBFA;\n",
              "      box-shadow: 0px 1px 2px rgba(60, 64, 67, 0.3), 0px 1px 3px 1px rgba(60, 64, 67, 0.15);\n",
              "      fill: #174EA6;\n",
              "    }\n",
              "\n",
              "    .colab-df-buttons div {\n",
              "      margin-bottom: 4px;\n",
              "    }\n",
              "\n",
              "    [theme=dark] .colab-df-convert {\n",
              "      background-color: #3B4455;\n",
              "      fill: #D2E3FC;\n",
              "    }\n",
              "\n",
              "    [theme=dark] .colab-df-convert:hover {\n",
              "      background-color: #434B5C;\n",
              "      box-shadow: 0px 1px 3px 1px rgba(0, 0, 0, 0.15);\n",
              "      filter: drop-shadow(0px 1px 2px rgba(0, 0, 0, 0.3));\n",
              "      fill: #FFFFFF;\n",
              "    }\n",
              "  </style>\n",
              "\n",
              "    <script>\n",
              "      const buttonEl =\n",
              "        document.querySelector('#df-bce8386c-a818-451c-bf46-03875bf7738d button.colab-df-convert');\n",
              "      buttonEl.style.display =\n",
              "        google.colab.kernel.accessAllowed ? 'block' : 'none';\n",
              "\n",
              "      async function convertToInteractive(key) {\n",
              "        const element = document.querySelector('#df-bce8386c-a818-451c-bf46-03875bf7738d');\n",
              "        const dataTable =\n",
              "          await google.colab.kernel.invokeFunction('convertToInteractive',\n",
              "                                                    [key], {});\n",
              "        if (!dataTable) return;\n",
              "\n",
              "        const docLinkHtml = 'Like what you see? Visit the ' +\n",
              "          '<a target=\"_blank\" href=https://colab.research.google.com/notebooks/data_table.ipynb>data table notebook</a>'\n",
              "          + ' to learn more about interactive tables.';\n",
              "        element.innerHTML = '';\n",
              "        dataTable['output_type'] = 'display_data';\n",
              "        await google.colab.output.renderOutput(dataTable, element);\n",
              "        const docLink = document.createElement('div');\n",
              "        docLink.innerHTML = docLinkHtml;\n",
              "        element.appendChild(docLink);\n",
              "      }\n",
              "    </script>\n",
              "  </div>\n",
              "\n",
              "\n",
              "<div id=\"df-1e4a3e41-0fb7-4e39-a2e7-73d15c65c7e5\">\n",
              "  <button class=\"colab-df-quickchart\" onclick=\"quickchart('df-1e4a3e41-0fb7-4e39-a2e7-73d15c65c7e5')\"\n",
              "            title=\"Suggest charts.\"\n",
              "            style=\"display:none;\">\n",
              "\n",
              "<svg xmlns=\"http://www.w3.org/2000/svg\" height=\"24px\"viewBox=\"0 0 24 24\"\n",
              "     width=\"24px\">\n",
              "    <g>\n",
              "        <path d=\"M19 3H5c-1.1 0-2 .9-2 2v14c0 1.1.9 2 2 2h14c1.1 0 2-.9 2-2V5c0-1.1-.9-2-2-2zM9 17H7v-7h2v7zm4 0h-2V7h2v10zm4 0h-2v-4h2v4z\"/>\n",
              "    </g>\n",
              "</svg>\n",
              "  </button>\n",
              "\n",
              "<style>\n",
              "  .colab-df-quickchart {\n",
              "      --bg-color: #E8F0FE;\n",
              "      --fill-color: #1967D2;\n",
              "      --hover-bg-color: #E2EBFA;\n",
              "      --hover-fill-color: #174EA6;\n",
              "      --disabled-fill-color: #AAA;\n",
              "      --disabled-bg-color: #DDD;\n",
              "  }\n",
              "\n",
              "  [theme=dark] .colab-df-quickchart {\n",
              "      --bg-color: #3B4455;\n",
              "      --fill-color: #D2E3FC;\n",
              "      --hover-bg-color: #434B5C;\n",
              "      --hover-fill-color: #FFFFFF;\n",
              "      --disabled-bg-color: #3B4455;\n",
              "      --disabled-fill-color: #666;\n",
              "  }\n",
              "\n",
              "  .colab-df-quickchart {\n",
              "    background-color: var(--bg-color);\n",
              "    border: none;\n",
              "    border-radius: 50%;\n",
              "    cursor: pointer;\n",
              "    display: none;\n",
              "    fill: var(--fill-color);\n",
              "    height: 32px;\n",
              "    padding: 0;\n",
              "    width: 32px;\n",
              "  }\n",
              "\n",
              "  .colab-df-quickchart:hover {\n",
              "    background-color: var(--hover-bg-color);\n",
              "    box-shadow: 0 1px 2px rgba(60, 64, 67, 0.3), 0 1px 3px 1px rgba(60, 64, 67, 0.15);\n",
              "    fill: var(--button-hover-fill-color);\n",
              "  }\n",
              "\n",
              "  .colab-df-quickchart-complete:disabled,\n",
              "  .colab-df-quickchart-complete:disabled:hover {\n",
              "    background-color: var(--disabled-bg-color);\n",
              "    fill: var(--disabled-fill-color);\n",
              "    box-shadow: none;\n",
              "  }\n",
              "\n",
              "  .colab-df-spinner {\n",
              "    border: 2px solid var(--fill-color);\n",
              "    border-color: transparent;\n",
              "    border-bottom-color: var(--fill-color);\n",
              "    animation:\n",
              "      spin 1s steps(1) infinite;\n",
              "  }\n",
              "\n",
              "  @keyframes spin {\n",
              "    0% {\n",
              "      border-color: transparent;\n",
              "      border-bottom-color: var(--fill-color);\n",
              "      border-left-color: var(--fill-color);\n",
              "    }\n",
              "    20% {\n",
              "      border-color: transparent;\n",
              "      border-left-color: var(--fill-color);\n",
              "      border-top-color: var(--fill-color);\n",
              "    }\n",
              "    30% {\n",
              "      border-color: transparent;\n",
              "      border-left-color: var(--fill-color);\n",
              "      border-top-color: var(--fill-color);\n",
              "      border-right-color: var(--fill-color);\n",
              "    }\n",
              "    40% {\n",
              "      border-color: transparent;\n",
              "      border-right-color: var(--fill-color);\n",
              "      border-top-color: var(--fill-color);\n",
              "    }\n",
              "    60% {\n",
              "      border-color: transparent;\n",
              "      border-right-color: var(--fill-color);\n",
              "    }\n",
              "    80% {\n",
              "      border-color: transparent;\n",
              "      border-right-color: var(--fill-color);\n",
              "      border-bottom-color: var(--fill-color);\n",
              "    }\n",
              "    90% {\n",
              "      border-color: transparent;\n",
              "      border-bottom-color: var(--fill-color);\n",
              "    }\n",
              "  }\n",
              "</style>\n",
              "\n",
              "  <script>\n",
              "    async function quickchart(key) {\n",
              "      const quickchartButtonEl =\n",
              "        document.querySelector('#' + key + ' button');\n",
              "      quickchartButtonEl.disabled = true;  // To prevent multiple clicks.\n",
              "      quickchartButtonEl.classList.add('colab-df-spinner');\n",
              "      try {\n",
              "        const charts = await google.colab.kernel.invokeFunction(\n",
              "            'suggestCharts', [key], {});\n",
              "      } catch (error) {\n",
              "        console.error('Error during call to suggestCharts:', error);\n",
              "      }\n",
              "      quickchartButtonEl.classList.remove('colab-df-spinner');\n",
              "      quickchartButtonEl.classList.add('colab-df-quickchart-complete');\n",
              "    }\n",
              "    (() => {\n",
              "      let quickchartButtonEl =\n",
              "        document.querySelector('#df-1e4a3e41-0fb7-4e39-a2e7-73d15c65c7e5 button');\n",
              "      quickchartButtonEl.style.display =\n",
              "        google.colab.kernel.accessAllowed ? 'block' : 'none';\n",
              "    })();\n",
              "  </script>\n",
              "</div>\n",
              "    </div>\n",
              "  </div>\n"
            ]
          },
          "metadata": {},
          "execution_count": 5
        }
      ]
    },
    {
      "cell_type": "code",
      "source": [
        "# Check the no of observations and no of variables"
      ],
      "metadata": {
        "id": "vT9nZFsQaYQB"
      },
      "execution_count": null,
      "outputs": []
    },
    {
      "cell_type": "code",
      "source": [
        "no_of_observations=df.shape[0]"
      ],
      "metadata": {
        "id": "YMrzCCxIalpq"
      },
      "execution_count": null,
      "outputs": []
    },
    {
      "cell_type": "code",
      "source": [
        "no_of_columns=df.shape[1]"
      ],
      "metadata": {
        "id": "ndYEl1L6bPwV"
      },
      "execution_count": null,
      "outputs": []
    },
    {
      "cell_type": "code",
      "source": [
        "print(f\"The no of observations in the dataset :{no_of_observations}\")"
      ],
      "metadata": {
        "colab": {
          "base_uri": "https://localhost:8080/"
        },
        "id": "9jyVTPgBa5ZC",
        "outputId": "a7e8f403-a23f-44eb-f004-3e8720fc6bdf"
      },
      "execution_count": null,
      "outputs": [
        {
          "output_type": "stream",
          "name": "stdout",
          "text": [
            "The no of observations in the dataset :10000\n"
          ]
        }
      ]
    },
    {
      "cell_type": "code",
      "source": [
        "print(f\"The no of columns in the dataset :{no_of_columns}\")"
      ],
      "metadata": {
        "colab": {
          "base_uri": "https://localhost:8080/"
        },
        "id": "CAwmXyGdbVDJ",
        "outputId": "10496b0d-0238-41c6-bc27-66bbf8511a2e"
      },
      "execution_count": null,
      "outputs": [
        {
          "output_type": "stream",
          "name": "stdout",
          "text": [
            "The no of columns in the dataset :4\n"
          ]
        }
      ]
    },
    {
      "cell_type": "code",
      "source": [
        "df.columns"
      ],
      "metadata": {
        "colab": {
          "base_uri": "https://localhost:8080/"
        },
        "id": "HeaMvCJaanAr",
        "outputId": "fcaa8b25-486b-4031-ef37-46fc7d48d477"
      },
      "execution_count": null,
      "outputs": [
        {
          "output_type": "execute_result",
          "data": {
            "text/plain": [
              "Index(['default', 'student', 'balance', 'income'], dtype='object')"
            ]
          },
          "metadata": {},
          "execution_count": 11
        }
      ]
    },
    {
      "cell_type": "code",
      "source": [
        "# Descriptive statistics"
      ],
      "metadata": {
        "id": "XIpGBkRhbxiG"
      },
      "execution_count": null,
      "outputs": []
    },
    {
      "cell_type": "code",
      "source": [
        "df.info()"
      ],
      "metadata": {
        "colab": {
          "base_uri": "https://localhost:8080/"
        },
        "id": "dqAx6cPOaopi",
        "outputId": "4a2310cf-218b-4e93-fa16-4bb542f6810d"
      },
      "execution_count": null,
      "outputs": [
        {
          "output_type": "stream",
          "name": "stdout",
          "text": [
            "<class 'pandas.core.frame.DataFrame'>\n",
            "RangeIndex: 10000 entries, 0 to 9999\n",
            "Data columns (total 4 columns):\n",
            " #   Column   Non-Null Count  Dtype  \n",
            "---  ------   --------------  -----  \n",
            " 0   default  10000 non-null  object \n",
            " 1   student  10000 non-null  object \n",
            " 2   balance  10000 non-null  float64\n",
            " 3   income   10000 non-null  float64\n",
            "dtypes: float64(2), object(2)\n",
            "memory usage: 312.6+ KB\n"
          ]
        }
      ]
    },
    {
      "cell_type": "code",
      "source": [
        "df.describe()"
      ],
      "metadata": {
        "colab": {
          "base_uri": "https://localhost:8080/",
          "height": 300
        },
        "id": "8-mBZjpUbvrV",
        "outputId": "d07da502-c96e-4387-e7b9-1b24dfe5aa30"
      },
      "execution_count": null,
      "outputs": [
        {
          "output_type": "execute_result",
          "data": {
            "text/plain": [
              "            balance        income\n",
              "count  10000.000000  10000.000000\n",
              "mean     835.374877  33516.981852\n",
              "std      483.714957  13336.639582\n",
              "min        0.000000    771.970000\n",
              "25%      481.732500  21340.460000\n",
              "50%      823.635000  34552.645000\n",
              "75%     1166.305000  43807.730000\n",
              "max     2654.320000  73554.230000"
            ],
            "text/html": [
              "\n",
              "  <div id=\"df-c7d90e79-0a7c-4390-b1c3-589daeeadf92\" class=\"colab-df-container\">\n",
              "    <div>\n",
              "<style scoped>\n",
              "    .dataframe tbody tr th:only-of-type {\n",
              "        vertical-align: middle;\n",
              "    }\n",
              "\n",
              "    .dataframe tbody tr th {\n",
              "        vertical-align: top;\n",
              "    }\n",
              "\n",
              "    .dataframe thead th {\n",
              "        text-align: right;\n",
              "    }\n",
              "</style>\n",
              "<table border=\"1\" class=\"dataframe\">\n",
              "  <thead>\n",
              "    <tr style=\"text-align: right;\">\n",
              "      <th></th>\n",
              "      <th>balance</th>\n",
              "      <th>income</th>\n",
              "    </tr>\n",
              "  </thead>\n",
              "  <tbody>\n",
              "    <tr>\n",
              "      <th>count</th>\n",
              "      <td>10000.000000</td>\n",
              "      <td>10000.000000</td>\n",
              "    </tr>\n",
              "    <tr>\n",
              "      <th>mean</th>\n",
              "      <td>835.374877</td>\n",
              "      <td>33516.981852</td>\n",
              "    </tr>\n",
              "    <tr>\n",
              "      <th>std</th>\n",
              "      <td>483.714957</td>\n",
              "      <td>13336.639582</td>\n",
              "    </tr>\n",
              "    <tr>\n",
              "      <th>min</th>\n",
              "      <td>0.000000</td>\n",
              "      <td>771.970000</td>\n",
              "    </tr>\n",
              "    <tr>\n",
              "      <th>25%</th>\n",
              "      <td>481.732500</td>\n",
              "      <td>21340.460000</td>\n",
              "    </tr>\n",
              "    <tr>\n",
              "      <th>50%</th>\n",
              "      <td>823.635000</td>\n",
              "      <td>34552.645000</td>\n",
              "    </tr>\n",
              "    <tr>\n",
              "      <th>75%</th>\n",
              "      <td>1166.305000</td>\n",
              "      <td>43807.730000</td>\n",
              "    </tr>\n",
              "    <tr>\n",
              "      <th>max</th>\n",
              "      <td>2654.320000</td>\n",
              "      <td>73554.230000</td>\n",
              "    </tr>\n",
              "  </tbody>\n",
              "</table>\n",
              "</div>\n",
              "    <div class=\"colab-df-buttons\">\n",
              "\n",
              "  <div class=\"colab-df-container\">\n",
              "    <button class=\"colab-df-convert\" onclick=\"convertToInteractive('df-c7d90e79-0a7c-4390-b1c3-589daeeadf92')\"\n",
              "            title=\"Convert this dataframe to an interactive table.\"\n",
              "            style=\"display:none;\">\n",
              "\n",
              "  <svg xmlns=\"http://www.w3.org/2000/svg\" height=\"24px\" viewBox=\"0 -960 960 960\">\n",
              "    <path d=\"M120-120v-720h720v720H120Zm60-500h600v-160H180v160Zm220 220h160v-160H400v160Zm0 220h160v-160H400v160ZM180-400h160v-160H180v160Zm440 0h160v-160H620v160ZM180-180h160v-160H180v160Zm440 0h160v-160H620v160Z\"/>\n",
              "  </svg>\n",
              "    </button>\n",
              "\n",
              "  <style>\n",
              "    .colab-df-container {\n",
              "      display:flex;\n",
              "      gap: 12px;\n",
              "    }\n",
              "\n",
              "    .colab-df-convert {\n",
              "      background-color: #E8F0FE;\n",
              "      border: none;\n",
              "      border-radius: 50%;\n",
              "      cursor: pointer;\n",
              "      display: none;\n",
              "      fill: #1967D2;\n",
              "      height: 32px;\n",
              "      padding: 0 0 0 0;\n",
              "      width: 32px;\n",
              "    }\n",
              "\n",
              "    .colab-df-convert:hover {\n",
              "      background-color: #E2EBFA;\n",
              "      box-shadow: 0px 1px 2px rgba(60, 64, 67, 0.3), 0px 1px 3px 1px rgba(60, 64, 67, 0.15);\n",
              "      fill: #174EA6;\n",
              "    }\n",
              "\n",
              "    .colab-df-buttons div {\n",
              "      margin-bottom: 4px;\n",
              "    }\n",
              "\n",
              "    [theme=dark] .colab-df-convert {\n",
              "      background-color: #3B4455;\n",
              "      fill: #D2E3FC;\n",
              "    }\n",
              "\n",
              "    [theme=dark] .colab-df-convert:hover {\n",
              "      background-color: #434B5C;\n",
              "      box-shadow: 0px 1px 3px 1px rgba(0, 0, 0, 0.15);\n",
              "      filter: drop-shadow(0px 1px 2px rgba(0, 0, 0, 0.3));\n",
              "      fill: #FFFFFF;\n",
              "    }\n",
              "  </style>\n",
              "\n",
              "    <script>\n",
              "      const buttonEl =\n",
              "        document.querySelector('#df-c7d90e79-0a7c-4390-b1c3-589daeeadf92 button.colab-df-convert');\n",
              "      buttonEl.style.display =\n",
              "        google.colab.kernel.accessAllowed ? 'block' : 'none';\n",
              "\n",
              "      async function convertToInteractive(key) {\n",
              "        const element = document.querySelector('#df-c7d90e79-0a7c-4390-b1c3-589daeeadf92');\n",
              "        const dataTable =\n",
              "          await google.colab.kernel.invokeFunction('convertToInteractive',\n",
              "                                                    [key], {});\n",
              "        if (!dataTable) return;\n",
              "\n",
              "        const docLinkHtml = 'Like what you see? Visit the ' +\n",
              "          '<a target=\"_blank\" href=https://colab.research.google.com/notebooks/data_table.ipynb>data table notebook</a>'\n",
              "          + ' to learn more about interactive tables.';\n",
              "        element.innerHTML = '';\n",
              "        dataTable['output_type'] = 'display_data';\n",
              "        await google.colab.output.renderOutput(dataTable, element);\n",
              "        const docLink = document.createElement('div');\n",
              "        docLink.innerHTML = docLinkHtml;\n",
              "        element.appendChild(docLink);\n",
              "      }\n",
              "    </script>\n",
              "  </div>\n",
              "\n",
              "\n",
              "<div id=\"df-ca914c07-74e2-4b46-9d37-58d257071ca1\">\n",
              "  <button class=\"colab-df-quickchart\" onclick=\"quickchart('df-ca914c07-74e2-4b46-9d37-58d257071ca1')\"\n",
              "            title=\"Suggest charts.\"\n",
              "            style=\"display:none;\">\n",
              "\n",
              "<svg xmlns=\"http://www.w3.org/2000/svg\" height=\"24px\"viewBox=\"0 0 24 24\"\n",
              "     width=\"24px\">\n",
              "    <g>\n",
              "        <path d=\"M19 3H5c-1.1 0-2 .9-2 2v14c0 1.1.9 2 2 2h14c1.1 0 2-.9 2-2V5c0-1.1-.9-2-2-2zM9 17H7v-7h2v7zm4 0h-2V7h2v10zm4 0h-2v-4h2v4z\"/>\n",
              "    </g>\n",
              "</svg>\n",
              "  </button>\n",
              "\n",
              "<style>\n",
              "  .colab-df-quickchart {\n",
              "      --bg-color: #E8F0FE;\n",
              "      --fill-color: #1967D2;\n",
              "      --hover-bg-color: #E2EBFA;\n",
              "      --hover-fill-color: #174EA6;\n",
              "      --disabled-fill-color: #AAA;\n",
              "      --disabled-bg-color: #DDD;\n",
              "  }\n",
              "\n",
              "  [theme=dark] .colab-df-quickchart {\n",
              "      --bg-color: #3B4455;\n",
              "      --fill-color: #D2E3FC;\n",
              "      --hover-bg-color: #434B5C;\n",
              "      --hover-fill-color: #FFFFFF;\n",
              "      --disabled-bg-color: #3B4455;\n",
              "      --disabled-fill-color: #666;\n",
              "  }\n",
              "\n",
              "  .colab-df-quickchart {\n",
              "    background-color: var(--bg-color);\n",
              "    border: none;\n",
              "    border-radius: 50%;\n",
              "    cursor: pointer;\n",
              "    display: none;\n",
              "    fill: var(--fill-color);\n",
              "    height: 32px;\n",
              "    padding: 0;\n",
              "    width: 32px;\n",
              "  }\n",
              "\n",
              "  .colab-df-quickchart:hover {\n",
              "    background-color: var(--hover-bg-color);\n",
              "    box-shadow: 0 1px 2px rgba(60, 64, 67, 0.3), 0 1px 3px 1px rgba(60, 64, 67, 0.15);\n",
              "    fill: var(--button-hover-fill-color);\n",
              "  }\n",
              "\n",
              "  .colab-df-quickchart-complete:disabled,\n",
              "  .colab-df-quickchart-complete:disabled:hover {\n",
              "    background-color: var(--disabled-bg-color);\n",
              "    fill: var(--disabled-fill-color);\n",
              "    box-shadow: none;\n",
              "  }\n",
              "\n",
              "  .colab-df-spinner {\n",
              "    border: 2px solid var(--fill-color);\n",
              "    border-color: transparent;\n",
              "    border-bottom-color: var(--fill-color);\n",
              "    animation:\n",
              "      spin 1s steps(1) infinite;\n",
              "  }\n",
              "\n",
              "  @keyframes spin {\n",
              "    0% {\n",
              "      border-color: transparent;\n",
              "      border-bottom-color: var(--fill-color);\n",
              "      border-left-color: var(--fill-color);\n",
              "    }\n",
              "    20% {\n",
              "      border-color: transparent;\n",
              "      border-left-color: var(--fill-color);\n",
              "      border-top-color: var(--fill-color);\n",
              "    }\n",
              "    30% {\n",
              "      border-color: transparent;\n",
              "      border-left-color: var(--fill-color);\n",
              "      border-top-color: var(--fill-color);\n",
              "      border-right-color: var(--fill-color);\n",
              "    }\n",
              "    40% {\n",
              "      border-color: transparent;\n",
              "      border-right-color: var(--fill-color);\n",
              "      border-top-color: var(--fill-color);\n",
              "    }\n",
              "    60% {\n",
              "      border-color: transparent;\n",
              "      border-right-color: var(--fill-color);\n",
              "    }\n",
              "    80% {\n",
              "      border-color: transparent;\n",
              "      border-right-color: var(--fill-color);\n",
              "      border-bottom-color: var(--fill-color);\n",
              "    }\n",
              "    90% {\n",
              "      border-color: transparent;\n",
              "      border-bottom-color: var(--fill-color);\n",
              "    }\n",
              "  }\n",
              "</style>\n",
              "\n",
              "  <script>\n",
              "    async function quickchart(key) {\n",
              "      const quickchartButtonEl =\n",
              "        document.querySelector('#' + key + ' button');\n",
              "      quickchartButtonEl.disabled = true;  // To prevent multiple clicks.\n",
              "      quickchartButtonEl.classList.add('colab-df-spinner');\n",
              "      try {\n",
              "        const charts = await google.colab.kernel.invokeFunction(\n",
              "            'suggestCharts', [key], {});\n",
              "      } catch (error) {\n",
              "        console.error('Error during call to suggestCharts:', error);\n",
              "      }\n",
              "      quickchartButtonEl.classList.remove('colab-df-spinner');\n",
              "      quickchartButtonEl.classList.add('colab-df-quickchart-complete');\n",
              "    }\n",
              "    (() => {\n",
              "      let quickchartButtonEl =\n",
              "        document.querySelector('#df-ca914c07-74e2-4b46-9d37-58d257071ca1 button');\n",
              "      quickchartButtonEl.style.display =\n",
              "        google.colab.kernel.accessAllowed ? 'block' : 'none';\n",
              "    })();\n",
              "  </script>\n",
              "</div>\n",
              "    </div>\n",
              "  </div>\n"
            ]
          },
          "metadata": {},
          "execution_count": 14
        }
      ]
    },
    {
      "cell_type": "code",
      "source": [
        "# Univariant analysis"
      ],
      "metadata": {
        "id": "GhgRHMbtcFfr"
      },
      "execution_count": null,
      "outputs": []
    },
    {
      "cell_type": "code",
      "source": [
        "plt.figure(figsize=(15,5))\n",
        "plt.subplot(1,2,1)\n",
        "sns.boxplot(y=df[\"balance\"])\n",
        "\n"
      ],
      "metadata": {
        "colab": {
          "base_uri": "https://localhost:8080/",
          "height": 443
        },
        "id": "oi7LKckud26L",
        "outputId": "5361165c-1a5e-4326-bf57-661859a43354"
      },
      "execution_count": null,
      "outputs": [
        {
          "output_type": "execute_result",
          "data": {
            "text/plain": [
              "<Axes: ylabel='balance'>"
            ]
          },
          "metadata": {},
          "execution_count": 16
        },
        {
          "output_type": "display_data",
          "data": {
            "text/plain": [
              "<Figure size 1500x500 with 1 Axes>"
            ],
            "image/png": "[encoded data removed]"
          },
          "metadata": {}
        }
      ]
    },
    {
      "cell_type": "code",
      "source": [
        "plt.figure(figsize=(15,5))\n",
        "plt.subplot(1,2,1)\n",
        "sns.boxplot(y=df[\"income\"])\n",
        "plt.show()"
      ],
      "metadata": {
        "colab": {
          "base_uri": "https://localhost:8080/",
          "height": 426
        },
        "id": "lNSbKNzmeJDl",
        "outputId": "75ced5e9-152e-4e5e-d63d-19b7f7d3a617"
      },
      "execution_count": null,
      "outputs": [
        {
          "output_type": "display_data",
          "data": {
            "text/plain": [
              "<Figure size 1500x500 with 1 Axes>"
            ],
            "image/png": "[encoded data removed]"
          },
          "metadata": {}
        }
      ]
    },
    {
      "cell_type": "markdown",
      "source": [
        "Univariant analysis for Students and Default Variable"
      ],
      "metadata": {
        "id": "7vhZQhdFfwYU"
      }
    },
    {
      "cell_type": "code",
      "source": [
        "plt.figure(figsize=(15,5))\n",
        "plt.subplot(1,2,1)\n",
        "sns.countplot(y=df[\"student\"])\n"
      ],
      "metadata": {
        "colab": {
          "base_uri": "https://localhost:8080/",
          "height": 482
        },
        "id": "GcitLespebPq",
        "outputId": "c5f26fdd-8ff1-4dd7-d5b4-1334ab346942"
      },
      "execution_count": null,
      "outputs": [
        {
          "output_type": "execute_result",
          "data": {
            "text/plain": [
              "<Axes: xlabel='count', ylabel='student'>"
            ]
          },
          "metadata": {},
          "execution_count": 18
        },
        {
          "output_type": "display_data",
          "data": {
            "text/plain": [
              "<Figure size 1500x500 with 1 Axes>"
            ],
            "image/png": "[encoded data removed]"
          },
          "metadata": {}
        }
      ]
    },
    {
      "cell_type": "code",
      "source": [
        "plt.figure(figsize=(15,5))\n",
        "plt.subplot(1,2,1)\n",
        "sns.countplot(y=df[\"default\"])\n",
        "plt.show()"
      ],
      "metadata": {
        "colab": {
          "base_uri": "https://localhost:8080/",
          "height": 465
        },
        "id": "iskAwW6uf_Xi",
        "outputId": "0d8a8597-608d-426d-8e08-3ed5bbf577e5"
      },
      "execution_count": null,
      "outputs": [
        {
          "output_type": "display_data",
          "data": {
            "text/plain": [
              "<Figure size 1500x500 with 1 Axes>"
            ],
            "image/png": "[encoded data removed]"
          },
          "metadata": {}
        }
      ]
    },
    {
      "cell_type": "code",
      "source": [
        "# Now lets us check the basis measures of descriptive stats for the categorical variables"
      ],
      "metadata": {
        "id": "z_8kaChdgHtT"
      },
      "execution_count": null,
      "outputs": []
    },
    {
      "cell_type": "code",
      "source": [
        "df[\"student\"].value_counts()"
      ],
      "metadata": {
        "colab": {
          "base_uri": "https://localhost:8080/"
        },
        "id": "DmIIKcQ3glKx",
        "outputId": "7a110142-f820-4e35-a36a-7309382cb89b"
      },
      "execution_count": null,
      "outputs": [
        {
          "output_type": "execute_result",
          "data": {
            "text/plain": [
              "No     7056\n",
              "Yes    2944\n",
              "Name: student, dtype: int64"
            ]
          },
          "metadata": {},
          "execution_count": 21
        }
      ]
    },
    {
      "cell_type": "code",
      "source": [
        "df[\"default\"].value_counts()"
      ],
      "metadata": {
        "colab": {
          "base_uri": "https://localhost:8080/"
        },
        "id": "bG036XkPgsh1",
        "outputId": "f6017003-8743-45d3-99d9-f38c5e2ad62b"
      },
      "execution_count": null,
      "outputs": [
        {
          "output_type": "execute_result",
          "data": {
            "text/plain": [
              "No     9667\n",
              "Yes     333\n",
              "Name: default, dtype: int64"
            ]
          },
          "metadata": {},
          "execution_count": 22
        }
      ]
    },
    {
      "cell_type": "code",
      "source": [
        "# checking the propetion of defaults\n"
      ],
      "metadata": {
        "id": "BZbhemvMgxBB"
      },
      "execution_count": null,
      "outputs": []
    },
    {
      "cell_type": "code",
      "source": [
        "df[\"default\"].value_counts(normalize=True)"
      ],
      "metadata": {
        "colab": {
          "base_uri": "https://localhost:8080/"
        },
        "id": "Kb-DoENug24C",
        "outputId": "fe4bdc3c-df4f-454a-9f78-21d1825d7d6a"
      },
      "execution_count": null,
      "outputs": [
        {
          "output_type": "execute_result",
          "data": {
            "text/plain": [
              "No     0.9667\n",
              "Yes    0.0333\n",
              "Name: default, dtype: float64"
            ]
          },
          "metadata": {},
          "execution_count": 24
        }
      ]
    },
    {
      "cell_type": "code",
      "source": [
        "# Data seems to be higly inbalanced"
      ],
      "metadata": {
        "id": "BwQE_7wTg8Cs"
      },
      "execution_count": null,
      "outputs": []
    },
    {
      "cell_type": "markdown",
      "source": [
        "# Bi-Variant Analysis"
      ],
      "metadata": {
        "id": "vqagSZ4-hHRw"
      }
    },
    {
      "cell_type": "code",
      "source": [
        "# Default vs another variables"
      ],
      "metadata": {
        "id": "0i_yYr3hhFFB"
      },
      "execution_count": null,
      "outputs": []
    },
    {
      "cell_type": "code",
      "source": [
        "plt.figure(figsize=(15,5))\n",
        "plt.subplot(1,2,1)\n",
        "sns.boxplot(y=df['default'],x=df[\"balance\"])\n",
        "plt.show()\n",
        "plt.figure(figsize=(15,5))\n",
        "plt.subplot(1,2,2)\n",
        "sns.boxplot(y=df[\"default\"],x=df[\"income\"])\n",
        "plt.show()"
      ],
      "metadata": {
        "colab": {
          "base_uri": "https://localhost:8080/",
          "height": 913
        },
        "id": "I6DPDBzShP_G",
        "outputId": "fc8ea5cb-7643-4f26-fbbb-bb504f3ca368"
      },
      "execution_count": null,
      "outputs": [
        {
          "output_type": "display_data",
          "data": {
            "text/plain": [
              "<Figure size 1500x500 with 1 Axes>"
            ],
            "image/png": "[encoded data removed]"
          },
          "metadata": {}
        },
        {
          "output_type": "display_data",
          "data": {
            "text/plain": [
              "<Figure size 1500x500 with 1 Axes>"
            ],
            "image/png": "[encoded data removed]"
          },
          "metadata": {}
        }
      ]
    },
    {
      "cell_type": "code",
      "source": [
        "# Inference:When the balance is higher then there is higher chances of defaulter"
      ],
      "metadata": {
        "id": "hkgaNTVFhjK5"
      },
      "execution_count": null,
      "outputs": []
    },
    {
      "cell_type": "code",
      "source": [
        "# Defaulter income seems to be lower compared to non defaulter"
      ],
      "metadata": {
        "id": "8rJ7pu-1iei2"
      },
      "execution_count": null,
      "outputs": []
    },
    {
      "cell_type": "code",
      "source": [
        "df.head(2)"
      ],
      "metadata": {
        "colab": {
          "base_uri": "https://localhost:8080/",
          "height": 112
        },
        "id": "KwsMsOiRjGRJ",
        "outputId": "f745d9f5-ed04-4451-af09-c0d7990e0162"
      },
      "execution_count": null,
      "outputs": [
        {
          "output_type": "execute_result",
          "data": {
            "text/plain": [
              "  default student  balance    income\n",
              "0      No      No   729.53  44361.63\n",
              "1      No     Yes   817.18  12106.13"
            ],
            "text/html": [
              "\n",
              "  <div id=\"df-f4c8b511-e5b9-47ff-bbe8-c3524caf1fec\" class=\"colab-df-container\">\n",
              "    <div>\n",
              "<style scoped>\n",
              "    .dataframe tbody tr th:only-of-type {\n",
              "        vertical-align: middle;\n",
              "    }\n",
              "\n",
              "    .dataframe tbody tr th {\n",
              "        vertical-align: top;\n",
              "    }\n",
              "\n",
              "    .dataframe thead th {\n",
              "        text-align: right;\n",
              "    }\n",
              "</style>\n",
              "<table border=\"1\" class=\"dataframe\">\n",
              "  <thead>\n",
              "    <tr style=\"text-align: right;\">\n",
              "      <th></th>\n",
              "      <th>default</th>\n",
              "      <th>student</th>\n",
              "      <th>balance</th>\n",
              "      <th>income</th>\n",
              "    </tr>\n",
              "  </thead>\n",
              "  <tbody>\n",
              "    <tr>\n",
              "      <th>0</th>\n",
              "      <td>No</td>\n",
              "      <td>No</td>\n",
              "      <td>729.53</td>\n",
              "      <td>44361.63</td>\n",
              "    </tr>\n",
              "    <tr>\n",
              "      <th>1</th>\n",
              "      <td>No</td>\n",
              "      <td>Yes</td>\n",
              "      <td>817.18</td>\n",
              "      <td>12106.13</td>\n",
              "    </tr>\n",
              "  </tbody>\n",
              "</table>\n",
              "</div>\n",
              "    <div class=\"colab-df-buttons\">\n",
              "\n",
              "  <div class=\"colab-df-container\">\n",
              "    <button class=\"colab-df-convert\" onclick=\"convertToInteractive('df-f4c8b511-e5b9-47ff-bbe8-c3524caf1fec')\"\n",
              "            title=\"Convert this dataframe to an interactive table.\"\n",
              "            style=\"display:none;\">\n",
              "\n",
              "  <svg xmlns=\"http://www.w3.org/2000/svg\" height=\"24px\" viewBox=\"0 -960 960 960\">\n",
              "    <path d=\"M120-120v-720h720v720H120Zm60-500h600v-160H180v160Zm220 220h160v-160H400v160Zm0 220h160v-160H400v160ZM180-400h160v-160H180v160Zm440 0h160v-160H620v160ZM180-180h160v-160H180v160Zm440 0h160v-160H620v160Z\"/>\n",
              "  </svg>\n",
              "    </button>\n",
              "\n",
              "  <style>\n",
              "    .colab-df-container {\n",
              "      display:flex;\n",
              "      gap: 12px;\n",
              "    }\n",
              "\n",
              "    .colab-df-convert {\n",
              "      background-color: #E8F0FE;\n",
              "      border: none;\n",
              "      border-radius: 50%;\n",
              "      cursor: pointer;\n",
              "      display: none;\n",
              "      fill: #1967D2;\n",
              "      height: 32px;\n",
              "      padding: 0 0 0 0;\n",
              "      width: 32px;\n",
              "    }\n",
              "\n",
              "    .colab-df-convert:hover {\n",
              "      background-color: #E2EBFA;\n",
              "      box-shadow: 0px 1px 2px rgba(60, 64, 67, 0.3), 0px 1px 3px 1px rgba(60, 64, 67, 0.15);\n",
              "      fill: #174EA6;\n",
              "    }\n",
              "\n",
              "    .colab-df-buttons div {\n",
              "      margin-bottom: 4px;\n",
              "    }\n",
              "\n",
              "    [theme=dark] .colab-df-convert {\n",
              "      background-color: #3B4455;\n",
              "      fill: #D2E3FC;\n",
              "    }\n",
              "\n",
              "    [theme=dark] .colab-df-convert:hover {\n",
              "      background-color: #434B5C;\n",
              "      box-shadow: 0px 1px 3px 1px rgba(0, 0, 0, 0.15);\n",
              "      filter: drop-shadow(0px 1px 2px rgba(0, 0, 0, 0.3));\n",
              "      fill: #FFFFFF;\n",
              "    }\n",
              "  </style>\n",
              "\n",
              "    <script>\n",
              "      const buttonEl =\n",
              "        document.querySelector('#df-f4c8b511-e5b9-47ff-bbe8-c3524caf1fec button.colab-df-convert');\n",
              "      buttonEl.style.display =\n",
              "        google.colab.kernel.accessAllowed ? 'block' : 'none';\n",
              "\n",
              "      async function convertToInteractive(key) {\n",
              "        const element = document.querySelector('#df-f4c8b511-e5b9-47ff-bbe8-c3524caf1fec');\n",
              "        const dataTable =\n",
              "          await google.colab.kernel.invokeFunction('convertToInteractive',\n",
              "                                                    [key], {});\n",
              "        if (!dataTable) return;\n",
              "\n",
              "        const docLinkHtml = 'Like what you see? Visit the ' +\n",
              "          '<a target=\"_blank\" href=https://colab.research.google.com/notebooks/data_table.ipynb>data table notebook</a>'\n",
              "          + ' to learn more about interactive tables.';\n",
              "        element.innerHTML = '';\n",
              "        dataTable['output_type'] = 'display_data';\n",
              "        await google.colab.output.renderOutput(dataTable, element);\n",
              "        const docLink = document.createElement('div');\n",
              "        docLink.innerHTML = docLinkHtml;\n",
              "        element.appendChild(docLink);\n",
              "      }\n",
              "    </script>\n",
              "  </div>\n",
              "\n",
              "\n",
              "<div id=\"df-c7a1b0b6-7de4-4ac0-8258-2fbeb9830e8a\">\n",
              "  <button class=\"colab-df-quickchart\" onclick=\"quickchart('df-c7a1b0b6-7de4-4ac0-8258-2fbeb9830e8a')\"\n",
              "            title=\"Suggest charts.\"\n",
              "            style=\"display:none;\">\n",
              "\n",
              "<svg xmlns=\"http://www.w3.org/2000/svg\" height=\"24px\"viewBox=\"0 0 24 24\"\n",
              "     width=\"24px\">\n",
              "    <g>\n",
              "        <path d=\"M19 3H5c-1.1 0-2 .9-2 2v14c0 1.1.9 2 2 2h14c1.1 0 2-.9 2-2V5c0-1.1-.9-2-2-2zM9 17H7v-7h2v7zm4 0h-2V7h2v10zm4 0h-2v-4h2v4z\"/>\n",
              "    </g>\n",
              "</svg>\n",
              "  </button>\n",
              "\n",
              "<style>\n",
              "  .colab-df-quickchart {\n",
              "      --bg-color: #E8F0FE;\n",
              "      --fill-color: #1967D2;\n",
              "      --hover-bg-color: #E2EBFA;\n",
              "      --hover-fill-color: #174EA6;\n",
              "      --disabled-fill-color: #AAA;\n",
              "      --disabled-bg-color: #DDD;\n",
              "  }\n",
              "\n",
              "  [theme=dark] .colab-df-quickchart {\n",
              "      --bg-color: #3B4455;\n",
              "      --fill-color: #D2E3FC;\n",
              "      --hover-bg-color: #434B5C;\n",
              "      --hover-fill-color: #FFFFFF;\n",
              "      --disabled-bg-color: #3B4455;\n",
              "      --disabled-fill-color: #666;\n",
              "  }\n",
              "\n",
              "  .colab-df-quickchart {\n",
              "    background-color: var(--bg-color);\n",
              "    border: none;\n",
              "    border-radius: 50%;\n",
              "    cursor: pointer;\n",
              "    display: none;\n",
              "    fill: var(--fill-color);\n",
              "    height: 32px;\n",
              "    padding: 0;\n",
              "    width: 32px;\n",
              "  }\n",
              "\n",
              "  .colab-df-quickchart:hover {\n",
              "    background-color: var(--hover-bg-color);\n",
              "    box-shadow: 0 1px 2px rgba(60, 64, 67, 0.3), 0 1px 3px 1px rgba(60, 64, 67, 0.15);\n",
              "    fill: var(--button-hover-fill-color);\n",
              "  }\n",
              "\n",
              "  .colab-df-quickchart-complete:disabled,\n",
              "  .colab-df-quickchart-complete:disabled:hover {\n",
              "    background-color: var(--disabled-bg-color);\n",
              "    fill: var(--disabled-fill-color);\n",
              "    box-shadow: none;\n",
              "  }\n",
              "\n",
              "  .colab-df-spinner {\n",
              "    border: 2px solid var(--fill-color);\n",
              "    border-color: transparent;\n",
              "    border-bottom-color: var(--fill-color);\n",
              "    animation:\n",
              "      spin 1s steps(1) infinite;\n",
              "  }\n",
              "\n",
              "  @keyframes spin {\n",
              "    0% {\n",
              "      border-color: transparent;\n",
              "      border-bottom-color: var(--fill-color);\n",
              "      border-left-color: var(--fill-color);\n",
              "    }\n",
              "    20% {\n",
              "      border-color: transparent;\n",
              "      border-left-color: var(--fill-color);\n",
              "      border-top-color: var(--fill-color);\n",
              "    }\n",
              "    30% {\n",
              "      border-color: transparent;\n",
              "      border-left-color: var(--fill-color);\n",
              "      border-top-color: var(--fill-color);\n",
              "      border-right-color: var(--fill-color);\n",
              "    }\n",
              "    40% {\n",
              "      border-color: transparent;\n",
              "      border-right-color: var(--fill-color);\n",
              "      border-top-color: var(--fill-color);\n",
              "    }\n",
              "    60% {\n",
              "      border-color: transparent;\n",
              "      border-right-color: var(--fill-color);\n",
              "    }\n",
              "    80% {\n",
              "      border-color: transparent;\n",
              "      border-right-color: var(--fill-color);\n",
              "      border-bottom-color: var(--fill-color);\n",
              "    }\n",
              "    90% {\n",
              "      border-color: transparent;\n",
              "      border-bottom-color: var(--fill-color);\n",
              "    }\n",
              "  }\n",
              "</style>\n",
              "\n",
              "  <script>\n",
              "    async function quickchart(key) {\n",
              "      const quickchartButtonEl =\n",
              "        document.querySelector('#' + key + ' button');\n",
              "      quickchartButtonEl.disabled = true;  // To prevent multiple clicks.\n",
              "      quickchartButtonEl.classList.add('colab-df-spinner');\n",
              "      try {\n",
              "        const charts = await google.colab.kernel.invokeFunction(\n",
              "            'suggestCharts', [key], {});\n",
              "      } catch (error) {\n",
              "        console.error('Error during call to suggestCharts:', error);\n",
              "      }\n",
              "      quickchartButtonEl.classList.remove('colab-df-spinner');\n",
              "      quickchartButtonEl.classList.add('colab-df-quickchart-complete');\n",
              "    }\n",
              "    (() => {\n",
              "      let quickchartButtonEl =\n",
              "        document.querySelector('#df-c7a1b0b6-7de4-4ac0-8258-2fbeb9830e8a button');\n",
              "      quickchartButtonEl.style.display =\n",
              "        google.colab.kernel.accessAllowed ? 'block' : 'none';\n",
              "    })();\n",
              "  </script>\n",
              "</div>\n",
              "    </div>\n",
              "  </div>\n"
            ]
          },
          "metadata": {},
          "execution_count": 30
        }
      ]
    },
    {
      "cell_type": "code",
      "source": [
        "df[\"student\"].value_counts()"
      ],
      "metadata": {
        "colab": {
          "base_uri": "https://localhost:8080/"
        },
        "id": "UGDl52Ynjr3E",
        "outputId": "cca4062f-7d80-47e3-855e-0bd60cd8d89a"
      },
      "execution_count": null,
      "outputs": [
        {
          "output_type": "execute_result",
          "data": {
            "text/plain": [
              "No     7056\n",
              "Yes    2944\n",
              "Name: student, dtype: int64"
            ]
          },
          "metadata": {},
          "execution_count": 31
        }
      ]
    },
    {
      "cell_type": "code",
      "source": [
        "pd.crosstab(df[\"student\"],df['default'],normalize=\"index\").round(2)"
      ],
      "metadata": {
        "colab": {
          "base_uri": "https://localhost:8080/",
          "height": 143
        },
        "id": "CtZ8IWGYjxrn",
        "outputId": "6a3f4634-198d-4976-dc8b-c7daef6b5c9b"
      },
      "execution_count": null,
      "outputs": [
        {
          "output_type": "execute_result",
          "data": {
            "text/plain": [
              "default    No   Yes\n",
              "student            \n",
              "No       0.97  0.03\n",
              "Yes      0.96  0.04"
            ],
            "text/html": [
              "\n",
              "  <div id=\"df-5e234008-4336-43bd-930e-87b84aba66ea\" class=\"colab-df-container\">\n",
              "    <div>\n",
              "<style scoped>\n",
              "    .dataframe tbody tr th:only-of-type {\n",
              "        vertical-align: middle;\n",
              "    }\n",
              "\n",
              "    .dataframe tbody tr th {\n",
              "        vertical-align: top;\n",
              "    }\n",
              "\n",
              "    .dataframe thead th {\n",
              "        text-align: right;\n",
              "    }\n",
              "</style>\n",
              "<table border=\"1\" class=\"dataframe\">\n",
              "  <thead>\n",
              "    <tr style=\"text-align: right;\">\n",
              "      <th>default</th>\n",
              "      <th>No</th>\n",
              "      <th>Yes</th>\n",
              "    </tr>\n",
              "    <tr>\n",
              "      <th>student</th>\n",
              "      <th></th>\n",
              "      <th></th>\n",
              "    </tr>\n",
              "  </thead>\n",
              "  <tbody>\n",
              "    <tr>\n",
              "      <th>No</th>\n",
              "      <td>0.97</td>\n",
              "      <td>0.03</td>\n",
              "    </tr>\n",
              "    <tr>\n",
              "      <th>Yes</th>\n",
              "      <td>0.96</td>\n",
              "      <td>0.04</td>\n",
              "    </tr>\n",
              "  </tbody>\n",
              "</table>\n",
              "</div>\n",
              "    <div class=\"colab-df-buttons\">\n",
              "\n",
              "  <div class=\"colab-df-container\">\n",
              "    <button class=\"colab-df-convert\" onclick=\"convertToInteractive('df-5e234008-4336-43bd-930e-87b84aba66ea')\"\n",
              "            title=\"Convert this dataframe to an interactive table.\"\n",
              "            style=\"display:none;\">\n",
              "\n",
              "  <svg xmlns=\"http://www.w3.org/2000/svg\" height=\"24px\" viewBox=\"0 -960 960 960\">\n",
              "    <path d=\"M120-120v-720h720v720H120Zm60-500h600v-160H180v160Zm220 220h160v-160H400v160Zm0 220h160v-160H400v160ZM180-400h160v-160H180v160Zm440 0h160v-160H620v160ZM180-180h160v-160H180v160Zm440 0h160v-160H620v160Z\"/>\n",
              "  </svg>\n",
              "    </button>\n",
              "\n",
              "  <style>\n",
              "    .colab-df-container {\n",
              "      display:flex;\n",
              "      gap: 12px;\n",
              "    }\n",
              "\n",
              "    .colab-df-convert {\n",
              "      background-color: #E8F0FE;\n",
              "      border: none;\n",
              "      border-radius: 50%;\n",
              "      cursor: pointer;\n",
              "      display: none;\n",
              "      fill: #1967D2;\n",
              "      height: 32px;\n",
              "      padding: 0 0 0 0;\n",
              "      width: 32px;\n",
              "    }\n",
              "\n",
              "    .colab-df-convert:hover {\n",
              "      background-color: #E2EBFA;\n",
              "      box-shadow: 0px 1px 2px rgba(60, 64, 67, 0.3), 0px 1px 3px 1px rgba(60, 64, 67, 0.15);\n",
              "      fill: #174EA6;\n",
              "    }\n",
              "\n",
              "    .colab-df-buttons div {\n",
              "      margin-bottom: 4px;\n",
              "    }\n",
              "\n",
              "    [theme=dark] .colab-df-convert {\n",
              "      background-color: #3B4455;\n",
              "      fill: #D2E3FC;\n",
              "    }\n",
              "\n",
              "    [theme=dark] .colab-df-convert:hover {\n",
              "      background-color: #434B5C;\n",
              "      box-shadow: 0px 1px 3px 1px rgba(0, 0, 0, 0.15);\n",
              "      filter: drop-shadow(0px 1px 2px rgba(0, 0, 0, 0.3));\n",
              "      fill: #FFFFFF;\n",
              "    }\n",
              "  </style>\n",
              "\n",
              "    <script>\n",
              "      const buttonEl =\n",
              "        document.querySelector('#df-5e234008-4336-43bd-930e-87b84aba66ea button.colab-df-convert');\n",
              "      buttonEl.style.display =\n",
              "        google.colab.kernel.accessAllowed ? 'block' : 'none';\n",
              "\n",
              "      async function convertToInteractive(key) {\n",
              "        const element = document.querySelector('#df-5e234008-4336-43bd-930e-87b84aba66ea');\n",
              "        const dataTable =\n",
              "          await google.colab.kernel.invokeFunction('convertToInteractive',\n",
              "                                                    [key], {});\n",
              "        if (!dataTable) return;\n",
              "\n",
              "        const docLinkHtml = 'Like what you see? Visit the ' +\n",
              "          '<a target=\"_blank\" href=https://colab.research.google.com/notebooks/data_table.ipynb>data table notebook</a>'\n",
              "          + ' to learn more about interactive tables.';\n",
              "        element.innerHTML = '';\n",
              "        dataTable['output_type'] = 'display_data';\n",
              "        await google.colab.output.renderOutput(dataTable, element);\n",
              "        const docLink = document.createElement('div');\n",
              "        docLink.innerHTML = docLinkHtml;\n",
              "        element.appendChild(docLink);\n",
              "      }\n",
              "    </script>\n",
              "  </div>\n",
              "\n",
              "\n",
              "<div id=\"df-c42d0904-b08d-4124-8947-6c5f9c45276f\">\n",
              "  <button class=\"colab-df-quickchart\" onclick=\"quickchart('df-c42d0904-b08d-4124-8947-6c5f9c45276f')\"\n",
              "            title=\"Suggest charts.\"\n",
              "            style=\"display:none;\">\n",
              "\n",
              "<svg xmlns=\"http://www.w3.org/2000/svg\" height=\"24px\"viewBox=\"0 0 24 24\"\n",
              "     width=\"24px\">\n",
              "    <g>\n",
              "        <path d=\"M19 3H5c-1.1 0-2 .9-2 2v14c0 1.1.9 2 2 2h14c1.1 0 2-.9 2-2V5c0-1.1-.9-2-2-2zM9 17H7v-7h2v7zm4 0h-2V7h2v10zm4 0h-2v-4h2v4z\"/>\n",
              "    </g>\n",
              "</svg>\n",
              "  </button>\n",
              "\n",
              "<style>\n",
              "  .colab-df-quickchart {\n",
              "      --bg-color: #E8F0FE;\n",
              "      --fill-color: #1967D2;\n",
              "      --hover-bg-color: #E2EBFA;\n",
              "      --hover-fill-color: #174EA6;\n",
              "      --disabled-fill-color: #AAA;\n",
              "      --disabled-bg-color: #DDD;\n",
              "  }\n",
              "\n",
              "  [theme=dark] .colab-df-quickchart {\n",
              "      --bg-color: #3B4455;\n",
              "      --fill-color: #D2E3FC;\n",
              "      --hover-bg-color: #434B5C;\n",
              "      --hover-fill-color: #FFFFFF;\n",
              "      --disabled-bg-color: #3B4455;\n",
              "      --disabled-fill-color: #666;\n",
              "  }\n",
              "\n",
              "  .colab-df-quickchart {\n",
              "    background-color: var(--bg-color);\n",
              "    border: none;\n",
              "    border-radius: 50%;\n",
              "    cursor: pointer;\n",
              "    display: none;\n",
              "    fill: var(--fill-color);\n",
              "    height: 32px;\n",
              "    padding: 0;\n",
              "    width: 32px;\n",
              "  }\n",
              "\n",
              "  .colab-df-quickchart:hover {\n",
              "    background-color: var(--hover-bg-color);\n",
              "    box-shadow: 0 1px 2px rgba(60, 64, 67, 0.3), 0 1px 3px 1px rgba(60, 64, 67, 0.15);\n",
              "    fill: var(--button-hover-fill-color);\n",
              "  }\n",
              "\n",
              "  .colab-df-quickchart-complete:disabled,\n",
              "  .colab-df-quickchart-complete:disabled:hover {\n",
              "    background-color: var(--disabled-bg-color);\n",
              "    fill: var(--disabled-fill-color);\n",
              "    box-shadow: none;\n",
              "  }\n",
              "\n",
              "  .colab-df-spinner {\n",
              "    border: 2px solid var(--fill-color);\n",
              "    border-color: transparent;\n",
              "    border-bottom-color: var(--fill-color);\n",
              "    animation:\n",
              "      spin 1s steps(1) infinite;\n",
              "  }\n",
              "\n",
              "  @keyframes spin {\n",
              "    0% {\n",
              "      border-color: transparent;\n",
              "      border-bottom-color: var(--fill-color);\n",
              "      border-left-color: var(--fill-color);\n",
              "    }\n",
              "    20% {\n",
              "      border-color: transparent;\n",
              "      border-left-color: var(--fill-color);\n",
              "      border-top-color: var(--fill-color);\n",
              "    }\n",
              "    30% {\n",
              "      border-color: transparent;\n",
              "      border-left-color: var(--fill-color);\n",
              "      border-top-color: var(--fill-color);\n",
              "      border-right-color: var(--fill-color);\n",
              "    }\n",
              "    40% {\n",
              "      border-color: transparent;\n",
              "      border-right-color: var(--fill-color);\n",
              "      border-top-color: var(--fill-color);\n",
              "    }\n",
              "    60% {\n",
              "      border-color: transparent;\n",
              "      border-right-color: var(--fill-color);\n",
              "    }\n",
              "    80% {\n",
              "      border-color: transparent;\n",
              "      border-right-color: var(--fill-color);\n",
              "      border-bottom-color: var(--fill-color);\n",
              "    }\n",
              "    90% {\n",
              "      border-color: transparent;\n",
              "      border-bottom-color: var(--fill-color);\n",
              "    }\n",
              "  }\n",
              "</style>\n",
              "\n",
              "  <script>\n",
              "    async function quickchart(key) {\n",
              "      const quickchartButtonEl =\n",
              "        document.querySelector('#' + key + ' button');\n",
              "      quickchartButtonEl.disabled = true;  // To prevent multiple clicks.\n",
              "      quickchartButtonEl.classList.add('colab-df-spinner');\n",
              "      try {\n",
              "        const charts = await google.colab.kernel.invokeFunction(\n",
              "            'suggestCharts', [key], {});\n",
              "      } catch (error) {\n",
              "        console.error('Error during call to suggestCharts:', error);\n",
              "      }\n",
              "      quickchartButtonEl.classList.remove('colab-df-spinner');\n",
              "      quickchartButtonEl.classList.add('colab-df-quickchart-complete');\n",
              "    }\n",
              "    (() => {\n",
              "      let quickchartButtonEl =\n",
              "        document.querySelector('#df-c42d0904-b08d-4124-8947-6c5f9c45276f button');\n",
              "      quickchartButtonEl.style.display =\n",
              "        google.colab.kernel.accessAllowed ? 'block' : 'none';\n",
              "    })();\n",
              "  </script>\n",
              "</div>\n",
              "    </div>\n",
              "  </div>\n"
            ]
          },
          "metadata": {},
          "execution_count": 32
        }
      ]
    },
    {
      "cell_type": "code",
      "source": [
        "# check for correlation analysis between independent variables"
      ],
      "metadata": {
        "id": "dVbZ9oZrlQwK"
      },
      "execution_count": null,
      "outputs": []
    },
    {
      "cell_type": "code",
      "source": [
        "sns.heatmap(df[[\"income\",\"balance\"]].corr(),annot=True)"
      ],
      "metadata": {
        "colab": {
          "base_uri": "https://localhost:8080/",
          "height": 452
        },
        "id": "AFxk8eftlvpe",
        "outputId": "9ccd7520-a7b1-48d8-b443-a514ba127be4"
      },
      "execution_count": null,
      "outputs": [
        {
          "output_type": "execute_result",
          "data": {
            "text/plain": [
              "<Axes: >"
            ]
          },
          "metadata": {},
          "execution_count": 34
        },
        {
          "output_type": "display_data",
          "data": {
            "text/plain": [
              "<Figure size 640x480 with 2 Axes>"
            ],
            "image/png": "[encoded data removed]"
          },
          "metadata": {}
        }
      ]
    },
    {
      "cell_type": "code",
      "source": [
        "# check for missing value"
      ],
      "metadata": {
        "id": "x2jkx1yTl6bx"
      },
      "execution_count": null,
      "outputs": []
    },
    {
      "cell_type": "code",
      "source": [
        "df.isnull().sum()"
      ],
      "metadata": {
        "colab": {
          "base_uri": "https://localhost:8080/"
        },
        "id": "cIddIAZ_mVby",
        "outputId": "409ec724-24f8-4188-f28a-8c782f34555c"
      },
      "execution_count": null,
      "outputs": [
        {
          "output_type": "execute_result",
          "data": {
            "text/plain": [
              "default    0\n",
              "student    0\n",
              "balance    0\n",
              "income     0\n",
              "dtype: int64"
            ]
          },
          "metadata": {},
          "execution_count": 36
        }
      ]
    },
    {
      "cell_type": "code",
      "source": [
        "# There is no missing values in the dataset"
      ],
      "metadata": {
        "id": "bxktY7OomX0F"
      },
      "execution_count": null,
      "outputs": []
    },
    {
      "cell_type": "code",
      "source": [
        "# Treating the outliers:Balance variable"
      ],
      "metadata": {
        "id": "HITxWloAmcJ_"
      },
      "execution_count": null,
      "outputs": []
    },
    {
      "cell_type": "code",
      "source": [
        "Q1,Q3 =df[\"balance\"].quantile([.25,.75])\n",
        "IQR =Q3-Q1\n",
        "LL = Q1-1.5*IQR\n",
        "UL= Q3 + 1.5*IQR\n"
      ],
      "metadata": {
        "id": "7cXLpLkKmfOb"
      },
      "execution_count": null,
      "outputs": []
    },
    {
      "cell_type": "code",
      "source": [
        "print(Q1)\n",
        "print()\n",
        "print(Q3)\n",
        "print()\n",
        "print(IQR)\n",
        "print(LL)\n",
        "print(UL)"
      ],
      "metadata": {
        "colab": {
          "base_uri": "https://localhost:8080/"
        },
        "id": "NvaEb2jnndKg",
        "outputId": "72fee16d-1de5-451e-c197-3a735c4b817b"
      },
      "execution_count": null,
      "outputs": [
        {
          "output_type": "stream",
          "name": "stdout",
          "text": [
            "481.73249999999996\n",
            "\n",
            "1166.305\n",
            "\n",
            "684.5725000000001\n",
            "-545.1262500000001\n",
            "2193.16375\n"
          ]
        }
      ]
    },
    {
      "cell_type": "code",
      "source": [
        "df1=df[df[\"balance\"]>UL]"
      ],
      "metadata": {
        "id": "1CQ0fVOOnKWc"
      },
      "execution_count": null,
      "outputs": []
    },
    {
      "cell_type": "code",
      "source": [
        "df1"
      ],
      "metadata": {
        "colab": {
          "base_uri": "https://localhost:8080/",
          "height": 1000
        },
        "id": "svqgtLgenZZ0",
        "outputId": "43899487-abdf-4dff-feb9-02daea1201ca"
      },
      "execution_count": null,
      "outputs": [
        {
          "output_type": "execute_result",
          "data": {
            "text/plain": [
              "     default student  balance    income\n",
              "173      Yes     Yes  2205.80  14271.49\n",
              "1136     Yes      No  2499.02  51504.29\n",
              "1160     Yes     Yes  2502.68  14947.52\n",
              "1359     Yes      No  2220.97  40725.10\n",
              "1502     Yes     Yes  2332.88  11770.23\n",
              "1609     Yes     Yes  2269.95  18021.11\n",
              "2096     Yes     Yes  2261.85  20030.17\n",
              "2140      No     Yes  2308.89  19110.27\n",
              "2929     Yes     Yes  2387.31  28296.91\n",
              "3162     Yes     Yes  2415.32  17429.50\n",
              "3189     Yes      No  2228.47  27438.35\n",
              "3702      No     Yes  2370.46  24251.96\n",
              "3855     Yes     Yes  2321.88  21331.31\n",
              "3913     Yes     Yes  2334.12  19335.89\n",
              "3976      No     Yes  2388.17   7832.14\n",
              "4060     Yes     Yes  2216.02  20911.70\n",
              "4231     Yes     Yes  2291.62  20837.21\n",
              "4831      No     Yes  2216.33  24737.08\n",
              "5461     Yes     Yes  2247.42  17926.72\n",
              "6075     Yes      No  2413.32  38540.57\n",
              "6334     Yes      No  2343.80  51095.29\n",
              "6882     Yes     Yes  2287.17  18692.14\n",
              "7437     Yes     Yes  2461.51  11878.56\n",
              "7815     Yes     Yes  2578.47  25706.65\n",
              "8264     Yes      No  2236.76  37113.88\n",
              "8495     Yes     Yes  2654.32  21930.39\n",
              "8832     Yes     Yes  2207.60  19780.76\n",
              "8992     Yes     Yes  2352.05  24067.55\n",
              "9873      No      No  2391.01  50302.91\n",
              "9893     Yes      No  2288.41  52043.57\n",
              "9978     Yes      No  2202.46  47287.26"
            ],
            "text/html": [
              "\n",
              "  <div id=\"df-2606c2e1-cd1b-4010-a6c4-9c2a7c40a094\" class=\"colab-df-container\">\n",
              "    <div>\n",
              "<style scoped>\n",
              "    .dataframe tbody tr th:only-of-type {\n",
              "        vertical-align: middle;\n",
              "    }\n",
              "\n",
              "    .dataframe tbody tr th {\n",
              "        vertical-align: top;\n",
              "    }\n",
              "\n",
              "    .dataframe thead th {\n",
              "        text-align: right;\n",
              "    }\n",
              "</style>\n",
              "<table border=\"1\" class=\"dataframe\">\n",
              "  <thead>\n",
              "    <tr style=\"text-align: right;\">\n",
              "      <th></th>\n",
              "      <th>default</th>\n",
              "      <th>student</th>\n",
              "      <th>balance</th>\n",
              "      <th>income</th>\n",
              "    </tr>\n",
              "  </thead>\n",
              "  <tbody>\n",
              "    <tr>\n",
              "      <th>173</th>\n",
              "      <td>Yes</td>\n",
              "      <td>Yes</td>\n",
              "      <td>2205.80</td>\n",
              "      <td>14271.49</td>\n",
              "    </tr>\n",
              "    <tr>\n",
              "      <th>1136</th>\n",
              "      <td>Yes</td>\n",
              "      <td>No</td>\n",
              "      <td>2499.02</td>\n",
              "      <td>51504.29</td>\n",
              "    </tr>\n",
              "    <tr>\n",
              "      <th>1160</th>\n",
              "      <td>Yes</td>\n",
              "      <td>Yes</td>\n",
              "      <td>2502.68</td>\n",
              "      <td>14947.52</td>\n",
              "    </tr>\n",
              "    <tr>\n",
              "      <th>1359</th>\n",
              "      <td>Yes</td>\n",
              "      <td>No</td>\n",
              "      <td>2220.97</td>\n",
              "      <td>40725.10</td>\n",
              "    </tr>\n",
              "    <tr>\n",
              "      <th>1502</th>\n",
              "      <td>Yes</td>\n",
              "      <td>Yes</td>\n",
              "      <td>2332.88</td>\n",
              "      <td>11770.23</td>\n",
              "    </tr>\n",
              "    <tr>\n",
              "      <th>1609</th>\n",
              "      <td>Yes</td>\n",
              "      <td>Yes</td>\n",
              "      <td>2269.95</td>\n",
              "      <td>18021.11</td>\n",
              "    </tr>\n",
              "    <tr>\n",
              "      <th>2096</th>\n",
              "      <td>Yes</td>\n",
              "      <td>Yes</td>\n",
              "      <td>2261.85</td>\n",
              "      <td>20030.17</td>\n",
              "    </tr>\n",
              "    <tr>\n",
              "      <th>2140</th>\n",
              "      <td>No</td>\n",
              "      <td>Yes</td>\n",
              "      <td>2308.89</td>\n",
              "      <td>19110.27</td>\n",
              "    </tr>\n",
              "    <tr>\n",
              "      <th>2929</th>\n",
              "      <td>Yes</td>\n",
              "      <td>Yes</td>\n",
              "      <td>2387.31</td>\n",
              "      <td>28296.91</td>\n",
              "    </tr>\n",
              "    <tr>\n",
              "      <th>3162</th>\n",
              "      <td>Yes</td>\n",
              "      <td>Yes</td>\n",
              "      <td>2415.32</td>\n",
              "      <td>17429.50</td>\n",
              "    </tr>\n",
              "    <tr>\n",
              "      <th>3189</th>\n",
              "      <td>Yes</td>\n",
              "      <td>No</td>\n",
              "      <td>2228.47</td>\n",
              "      <td>27438.35</td>\n",
              "    </tr>\n",
              "    <tr>\n",
              "      <th>3702</th>\n",
              "      <td>No</td>\n",
              "      <td>Yes</td>\n",
              "      <td>2370.46</td>\n",
              "      <td>24251.96</td>\n",
              "    </tr>\n",
              "    <tr>\n",
              "      <th>3855</th>\n",
              "      <td>Yes</td>\n",
              "      <td>Yes</td>\n",
              "      <td>2321.88</td>\n",
              "      <td>21331.31</td>\n",
              "    </tr>\n",
              "    <tr>\n",
              "      <th>3913</th>\n",
              "      <td>Yes</td>\n",
              "      <td>Yes</td>\n",
              "      <td>2334.12</td>\n",
              "      <td>19335.89</td>\n",
              "    </tr>\n",
              "    <tr>\n",
              "      <th>3976</th>\n",
              "      <td>No</td>\n",
              "      <td>Yes</td>\n",
              "      <td>2388.17</td>\n",
              "      <td>7832.14</td>\n",
              "    </tr>\n",
              "    <tr>\n",
              "      <th>4060</th>\n",
              "      <td>Yes</td>\n",
              "      <td>Yes</td>\n",
              "      <td>2216.02</td>\n",
              "      <td>20911.70</td>\n",
              "    </tr>\n",
              "    <tr>\n",
              "      <th>4231</th>\n",
              "      <td>Yes</td>\n",
              "      <td>Yes</td>\n",
              "      <td>2291.62</td>\n",
              "      <td>20837.21</td>\n",
              "    </tr>\n",
              "    <tr>\n",
              "      <th>4831</th>\n",
              "      <td>No</td>\n",
              "      <td>Yes</td>\n",
              "      <td>2216.33</td>\n",
              "      <td>24737.08</td>\n",
              "    </tr>\n",
              "    <tr>\n",
              "      <th>5461</th>\n",
              "      <td>Yes</td>\n",
              "      <td>Yes</td>\n",
              "      <td>2247.42</td>\n",
              "      <td>17926.72</td>\n",
              "    </tr>\n",
              "    <tr>\n",
              "      <th>6075</th>\n",
              "      <td>Yes</td>\n",
              "      <td>No</td>\n",
              "      <td>2413.32</td>\n",
              "      <td>38540.57</td>\n",
              "    </tr>\n",
              "    <tr>\n",
              "      <th>6334</th>\n",
              "      <td>Yes</td>\n",
              "      <td>No</td>\n",
              "      <td>2343.80</td>\n",
              "      <td>51095.29</td>\n",
              "    </tr>\n",
              "    <tr>\n",
              "      <th>6882</th>\n",
              "      <td>Yes</td>\n",
              "      <td>Yes</td>\n",
              "      <td>2287.17</td>\n",
              "      <td>18692.14</td>\n",
              "    </tr>\n",
              "    <tr>\n",
              "      <th>7437</th>\n",
              "      <td>Yes</td>\n",
              "      <td>Yes</td>\n",
              "      <td>2461.51</td>\n",
              "      <td>11878.56</td>\n",
              "    </tr>\n",
              "    <tr>\n",
              "      <th>7815</th>\n",
              "      <td>Yes</td>\n",
              "      <td>Yes</td>\n",
              "      <td>2578.47</td>\n",
              "      <td>25706.65</td>\n",
              "    </tr>\n",
              "    <tr>\n",
              "      <th>8264</th>\n",
              "      <td>Yes</td>\n",
              "      <td>No</td>\n",
              "      <td>2236.76</td>\n",
              "      <td>37113.88</td>\n",
              "    </tr>\n",
              "    <tr>\n",
              "      <th>8495</th>\n",
              "      <td>Yes</td>\n",
              "      <td>Yes</td>\n",
              "      <td>2654.32</td>\n",
              "      <td>21930.39</td>\n",
              "    </tr>\n",
              "    <tr>\n",
              "      <th>8832</th>\n",
              "      <td>Yes</td>\n",
              "      <td>Yes</td>\n",
              "      <td>2207.60</td>\n",
              "      <td>19780.76</td>\n",
              "    </tr>\n",
              "    <tr>\n",
              "      <th>8992</th>\n",
              "      <td>Yes</td>\n",
              "      <td>Yes</td>\n",
              "      <td>2352.05</td>\n",
              "      <td>24067.55</td>\n",
              "    </tr>\n",
              "    <tr>\n",
              "      <th>9873</th>\n",
              "      <td>No</td>\n",
              "      <td>No</td>\n",
              "      <td>2391.01</td>\n",
              "      <td>50302.91</td>\n",
              "    </tr>\n",
              "    <tr>\n",
              "      <th>9893</th>\n",
              "      <td>Yes</td>\n",
              "      <td>No</td>\n",
              "      <td>2288.41</td>\n",
              "      <td>52043.57</td>\n",
              "    </tr>\n",
              "    <tr>\n",
              "      <th>9978</th>\n",
              "      <td>Yes</td>\n",
              "      <td>No</td>\n",
              "      <td>2202.46</td>\n",
              "      <td>47287.26</td>\n",
              "    </tr>\n",
              "  </tbody>\n",
              "</table>\n",
              "</div>\n",
              "    <div class=\"colab-df-buttons\">\n",
              "\n",
              "  <div class=\"colab-df-container\">\n",
              "    <button class=\"colab-df-convert\" onclick=\"convertToInteractive('df-2606c2e1-cd1b-4010-a6c4-9c2a7c40a094')\"\n",
              "            title=\"Convert this dataframe to an interactive table.\"\n",
              "            style=\"display:none;\">\n",
              "\n",
              "  <svg xmlns=\"http://www.w3.org/2000/svg\" height=\"24px\" viewBox=\"0 -960 960 960\">\n",
              "    <path d=\"M120-120v-720h720v720H120Zm60-500h600v-160H180v160Zm220 220h160v-160H400v160Zm0 220h160v-160H400v160ZM180-400h160v-160H180v160Zm440 0h160v-160H620v160ZM180-180h160v-160H180v160Zm440 0h160v-160H620v160Z\"/>\n",
              "  </svg>\n",
              "    </button>\n",
              "\n",
              "  <style>\n",
              "    .colab-df-container {\n",
              "      display:flex;\n",
              "      gap: 12px;\n",
              "    }\n",
              "\n",
              "    .colab-df-convert {\n",
              "      background-color: #E8F0FE;\n",
              "      border: none;\n",
              "      border-radius: 50%;\n",
              "      cursor: pointer;\n",
              "      display: none;\n",
              "      fill: #1967D2;\n",
              "      height: 32px;\n",
              "      padding: 0 0 0 0;\n",
              "      width: 32px;\n",
              "    }\n",
              "\n",
              "    .colab-df-convert:hover {\n",
              "      background-color: #E2EBFA;\n",
              "      box-shadow: 0px 1px 2px rgba(60, 64, 67, 0.3), 0px 1px 3px 1px rgba(60, 64, 67, 0.15);\n",
              "      fill: #174EA6;\n",
              "    }\n",
              "\n",
              "    .colab-df-buttons div {\n",
              "      margin-bottom: 4px;\n",
              "    }\n",
              "\n",
              "    [theme=dark] .colab-df-convert {\n",
              "      background-color: #3B4455;\n",
              "      fill: #D2E3FC;\n",
              "    }\n",
              "\n",
              "    [theme=dark] .colab-df-convert:hover {\n",
              "      background-color: #434B5C;\n",
              "      box-shadow: 0px 1px 3px 1px rgba(0, 0, 0, 0.15);\n",
              "      filter: drop-shadow(0px 1px 2px rgba(0, 0, 0, 0.3));\n",
              "      fill: #FFFFFF;\n",
              "    }\n",
              "  </style>\n",
              "\n",
              "    <script>\n",
              "      const buttonEl =\n",
              "        document.querySelector('#df-2606c2e1-cd1b-4010-a6c4-9c2a7c40a094 button.colab-df-convert');\n",
              "      buttonEl.style.display =\n",
              "        google.colab.kernel.accessAllowed ? 'block' : 'none';\n",
              "\n",
              "      async function convertToInteractive(key) {\n",
              "        const element = document.querySelector('#df-2606c2e1-cd1b-4010-a6c4-9c2a7c40a094');\n",
              "        const dataTable =\n",
              "          await google.colab.kernel.invokeFunction('convertToInteractive',\n",
              "                                                    [key], {});\n",
              "        if (!dataTable) return;\n",
              "\n",
              "        const docLinkHtml = 'Like what you see? Visit the ' +\n",
              "          '<a target=\"_blank\" href=https://colab.research.google.com/notebooks/data_table.ipynb>data table notebook</a>'\n",
              "          + ' to learn more about interactive tables.';\n",
              "        element.innerHTML = '';\n",
              "        dataTable['output_type'] = 'display_data';\n",
              "        await google.colab.output.renderOutput(dataTable, element);\n",
              "        const docLink = document.createElement('div');\n",
              "        docLink.innerHTML = docLinkHtml;\n",
              "        element.appendChild(docLink);\n",
              "      }\n",
              "    </script>\n",
              "  </div>\n",
              "\n",
              "\n",
              "<div id=\"df-2a32d0d9-25a7-4847-a08a-6a4f89416362\">\n",
              "  <button class=\"colab-df-quickchart\" onclick=\"quickchart('df-2a32d0d9-25a7-4847-a08a-6a4f89416362')\"\n",
              "            title=\"Suggest charts.\"\n",
              "            style=\"display:none;\">\n",
              "\n",
              "<svg xmlns=\"http://www.w3.org/2000/svg\" height=\"24px\"viewBox=\"0 0 24 24\"\n",
              "     width=\"24px\">\n",
              "    <g>\n",
              "        <path d=\"M19 3H5c-1.1 0-2 .9-2 2v14c0 1.1.9 2 2 2h14c1.1 0 2-.9 2-2V5c0-1.1-.9-2-2-2zM9 17H7v-7h2v7zm4 0h-2V7h2v10zm4 0h-2v-4h2v4z\"/>\n",
              "    </g>\n",
              "</svg>\n",
              "  </button>\n",
              "\n",
              "<style>\n",
              "  .colab-df-quickchart {\n",
              "      --bg-color: #E8F0FE;\n",
              "      --fill-color: #1967D2;\n",
              "      --hover-bg-color: #E2EBFA;\n",
              "      --hover-fill-color: #174EA6;\n",
              "      --disabled-fill-color: #AAA;\n",
              "      --disabled-bg-color: #DDD;\n",
              "  }\n",
              "\n",
              "  [theme=dark] .colab-df-quickchart {\n",
              "      --bg-color: #3B4455;\n",
              "      --fill-color: #D2E3FC;\n",
              "      --hover-bg-color: #434B5C;\n",
              "      --hover-fill-color: #FFFFFF;\n",
              "      --disabled-bg-color: #3B4455;\n",
              "      --disabled-fill-color: #666;\n",
              "  }\n",
              "\n",
              "  .colab-df-quickchart {\n",
              "    background-color: var(--bg-color);\n",
              "    border: none;\n",
              "    border-radius: 50%;\n",
              "    cursor: pointer;\n",
              "    display: none;\n",
              "    fill: var(--fill-color);\n",
              "    height: 32px;\n",
              "    padding: 0;\n",
              "    width: 32px;\n",
              "  }\n",
              "\n",
              "  .colab-df-quickchart:hover {\n",
              "    background-color: var(--hover-bg-color);\n",
              "    box-shadow: 0 1px 2px rgba(60, 64, 67, 0.3), 0 1px 3px 1px rgba(60, 64, 67, 0.15);\n",
              "    fill: var(--button-hover-fill-color);\n",
              "  }\n",
              "\n",
              "  .colab-df-quickchart-complete:disabled,\n",
              "  .colab-df-quickchart-complete:disabled:hover {\n",
              "    background-color: var(--disabled-bg-color);\n",
              "    fill: var(--disabled-fill-color);\n",
              "    box-shadow: none;\n",
              "  }\n",
              "\n",
              "  .colab-df-spinner {\n",
              "    border: 2px solid var(--fill-color);\n",
              "    border-color: transparent;\n",
              "    border-bottom-color: var(--fill-color);\n",
              "    animation:\n",
              "      spin 1s steps(1) infinite;\n",
              "  }\n",
              "\n",
              "  @keyframes spin {\n",
              "    0% {\n",
              "      border-color: transparent;\n",
              "      border-bottom-color: var(--fill-color);\n",
              "      border-left-color: var(--fill-color);\n",
              "    }\n",
              "    20% {\n",
              "      border-color: transparent;\n",
              "      border-left-color: var(--fill-color);\n",
              "      border-top-color: var(--fill-color);\n",
              "    }\n",
              "    30% {\n",
              "      border-color: transparent;\n",
              "      border-left-color: var(--fill-color);\n",
              "      border-top-color: var(--fill-color);\n",
              "      border-right-color: var(--fill-color);\n",
              "    }\n",
              "    40% {\n",
              "      border-color: transparent;\n",
              "      border-right-color: var(--fill-color);\n",
              "      border-top-color: var(--fill-color);\n",
              "    }\n",
              "    60% {\n",
              "      border-color: transparent;\n",
              "      border-right-color: var(--fill-color);\n",
              "    }\n",
              "    80% {\n",
              "      border-color: transparent;\n",
              "      border-right-color: var(--fill-color);\n",
              "      border-bottom-color: var(--fill-color);\n",
              "    }\n",
              "    90% {\n",
              "      border-color: transparent;\n",
              "      border-bottom-color: var(--fill-color);\n",
              "    }\n",
              "  }\n",
              "</style>\n",
              "\n",
              "  <script>\n",
              "    async function quickchart(key) {\n",
              "      const quickchartButtonEl =\n",
              "        document.querySelector('#' + key + ' button');\n",
              "      quickchartButtonEl.disabled = true;  // To prevent multiple clicks.\n",
              "      quickchartButtonEl.classList.add('colab-df-spinner');\n",
              "      try {\n",
              "        const charts = await google.colab.kernel.invokeFunction(\n",
              "            'suggestCharts', [key], {});\n",
              "      } catch (error) {\n",
              "        console.error('Error during call to suggestCharts:', error);\n",
              "      }\n",
              "      quickchartButtonEl.classList.remove('colab-df-spinner');\n",
              "      quickchartButtonEl.classList.add('colab-df-quickchart-complete');\n",
              "    }\n",
              "    (() => {\n",
              "      let quickchartButtonEl =\n",
              "        document.querySelector('#df-2a32d0d9-25a7-4847-a08a-6a4f89416362 button');\n",
              "      quickchartButtonEl.style.display =\n",
              "        google.colab.kernel.accessAllowed ? 'block' : 'none';\n",
              "    })();\n",
              "  </script>\n",
              "</div>\n",
              "    </div>\n",
              "  </div>\n"
            ]
          },
          "metadata": {},
          "execution_count": 42
        }
      ]
    },
    {
      "cell_type": "code",
      "source": [
        "df2=df[df[\"balance\"]<LL]"
      ],
      "metadata": {
        "id": "lrtNTxWCnaie"
      },
      "execution_count": null,
      "outputs": []
    },
    {
      "cell_type": "code",
      "source": [
        "df2"
      ],
      "metadata": {
        "colab": {
          "base_uri": "https://localhost:8080/",
          "height": 53
        },
        "id": "T67cOweKuX7h",
        "outputId": "2d2d8033-b40d-40dd-9597-058c8af74553"
      },
      "execution_count": null,
      "outputs": [
        {
          "output_type": "execute_result",
          "data": {
            "text/plain": [
              "Empty DataFrame\n",
              "Columns: [default, student, balance, income]\n",
              "Index: []"
            ],
            "text/html": [
              "\n",
              "  <div id=\"df-180dcb39-38a7-4d27-8655-ad8b2909308f\" class=\"colab-df-container\">\n",
              "    <div>\n",
              "<style scoped>\n",
              "    .dataframe tbody tr th:only-of-type {\n",
              "        vertical-align: middle;\n",
              "    }\n",
              "\n",
              "    .dataframe tbody tr th {\n",
              "        vertical-align: top;\n",
              "    }\n",
              "\n",
              "    .dataframe thead th {\n",
              "        text-align: right;\n",
              "    }\n",
              "</style>\n",
              "<table border=\"1\" class=\"dataframe\">\n",
              "  <thead>\n",
              "    <tr style=\"text-align: right;\">\n",
              "      <th></th>\n",
              "      <th>default</th>\n",
              "      <th>student</th>\n",
              "      <th>balance</th>\n",
              "      <th>income</th>\n",
              "    </tr>\n",
              "  </thead>\n",
              "  <tbody>\n",
              "  </tbody>\n",
              "</table>\n",
              "</div>\n",
              "    <div class=\"colab-df-buttons\">\n",
              "\n",
              "  <div class=\"colab-df-container\">\n",
              "    <button class=\"colab-df-convert\" onclick=\"convertToInteractive('df-180dcb39-38a7-4d27-8655-ad8b2909308f')\"\n",
              "            title=\"Convert this dataframe to an interactive table.\"\n",
              "            style=\"display:none;\">\n",
              "\n",
              "  <svg xmlns=\"http://www.w3.org/2000/svg\" height=\"24px\" viewBox=\"0 -960 960 960\">\n",
              "    <path d=\"M120-120v-720h720v720H120Zm60-500h600v-160H180v160Zm220 220h160v-160H400v160Zm0 220h160v-160H400v160ZM180-400h160v-160H180v160Zm440 0h160v-160H620v160ZM180-180h160v-160H180v160Zm440 0h160v-160H620v160Z\"/>\n",
              "  </svg>\n",
              "    </button>\n",
              "\n",
              "  <style>\n",
              "    .colab-df-container {\n",
              "      display:flex;\n",
              "      gap: 12px;\n",
              "    }\n",
              "\n",
              "    .colab-df-convert {\n",
              "      background-color: #E8F0FE;\n",
              "      border: none;\n",
              "      border-radius: 50%;\n",
              "      cursor: pointer;\n",
              "      display: none;\n",
              "      fill: #1967D2;\n",
              "      height: 32px;\n",
              "      padding: 0 0 0 0;\n",
              "      width: 32px;\n",
              "    }\n",
              "\n",
              "    .colab-df-convert:hover {\n",
              "      background-color: #E2EBFA;\n",
              "      box-shadow: 0px 1px 2px rgba(60, 64, 67, 0.3), 0px 1px 3px 1px rgba(60, 64, 67, 0.15);\n",
              "      fill: #174EA6;\n",
              "    }\n",
              "\n",
              "    .colab-df-buttons div {\n",
              "      margin-bottom: 4px;\n",
              "    }\n",
              "\n",
              "    [theme=dark] .colab-df-convert {\n",
              "      background-color: #3B4455;\n",
              "      fill: #D2E3FC;\n",
              "    }\n",
              "\n",
              "    [theme=dark] .colab-df-convert:hover {\n",
              "      background-color: #434B5C;\n",
              "      box-shadow: 0px 1px 3px 1px rgba(0, 0, 0, 0.15);\n",
              "      filter: drop-shadow(0px 1px 2px rgba(0, 0, 0, 0.3));\n",
              "      fill: #FFFFFF;\n",
              "    }\n",
              "  </style>\n",
              "\n",
              "    <script>\n",
              "      const buttonEl =\n",
              "        document.querySelector('#df-180dcb39-38a7-4d27-8655-ad8b2909308f button.colab-df-convert');\n",
              "      buttonEl.style.display =\n",
              "        google.colab.kernel.accessAllowed ? 'block' : 'none';\n",
              "\n",
              "      async function convertToInteractive(key) {\n",
              "        const element = document.querySelector('#df-180dcb39-38a7-4d27-8655-ad8b2909308f');\n",
              "        const dataTable =\n",
              "          await google.colab.kernel.invokeFunction('convertToInteractive',\n",
              "                                                    [key], {});\n",
              "        if (!dataTable) return;\n",
              "\n",
              "        const docLinkHtml = 'Like what you see? Visit the ' +\n",
              "          '<a target=\"_blank\" href=https://colab.research.google.com/notebooks/data_table.ipynb>data table notebook</a>'\n",
              "          + ' to learn more about interactive tables.';\n",
              "        element.innerHTML = '';\n",
              "        dataTable['output_type'] = 'display_data';\n",
              "        await google.colab.output.renderOutput(dataTable, element);\n",
              "        const docLink = document.createElement('div');\n",
              "        docLink.innerHTML = docLinkHtml;\n",
              "        element.appendChild(docLink);\n",
              "      }\n",
              "    </script>\n",
              "  </div>\n",
              "\n",
              "    </div>\n",
              "  </div>\n"
            ]
          },
          "metadata": {},
          "execution_count": 44
        }
      ]
    },
    {
      "cell_type": "code",
      "source": [
        "df1[\"default\"].count()"
      ],
      "metadata": {
        "colab": {
          "base_uri": "https://localhost:8080/"
        },
        "id": "TieE2m7auZJm",
        "outputId": "e6245496-3b62-4b0c-cf6e-bf4ba1d93b38"
      },
      "execution_count": null,
      "outputs": [
        {
          "output_type": "execute_result",
          "data": {
            "text/plain": [
              "31"
            ]
          },
          "metadata": {},
          "execution_count": 45
        }
      ]
    },
    {
      "cell_type": "code",
      "source": [
        "df1[\"default\"].value_counts(normalize=True)"
      ],
      "metadata": {
        "colab": {
          "base_uri": "https://localhost:8080/"
        },
        "id": "tbWfGdiGujXu",
        "outputId": "54d98474-b00b-494c-cc5f-f79a028755a2"
      },
      "execution_count": null,
      "outputs": [
        {
          "output_type": "execute_result",
          "data": {
            "text/plain": [
              "Yes    0.83871\n",
              "No     0.16129\n",
              "Name: default, dtype: float64"
            ]
          },
          "metadata": {},
          "execution_count": 46
        }
      ]
    },
    {
      "cell_type": "code",
      "source": [
        "df[\"balance\"]=np.where(df[\"balance\"]>UL,UL,df[\"balance\"])"
      ],
      "metadata": {
        "id": "1tj2rSkRur8O"
      },
      "execution_count": null,
      "outputs": []
    },
    {
      "cell_type": "code",
      "source": [
        "plt.figure(figsize=(15,5))\n",
        "plt.subplot(1,2,1)\n",
        "sns.boxplot(y=df[\"balance\"])\n"
      ],
      "metadata": {
        "colab": {
          "base_uri": "https://localhost:8080/",
          "height": 443
        },
        "id": "93fZEVCmvC21",
        "outputId": "afb9c162-f0cd-4cdc-aa90-0bc6fb360415"
      },
      "execution_count": null,
      "outputs": [
        {
          "output_type": "execute_result",
          "data": {
            "text/plain": [
              "<Axes: ylabel='balance'>"
            ]
          },
          "metadata": {},
          "execution_count": 48
        },
        {
          "output_type": "display_data",
          "data": {
            "text/plain": [
              "<Figure size 1500x500 with 1 Axes>"
            ],
            "image/png": "[encoded data removed]"
          },
          "metadata": {}
        }
      ]
    },
    {
      "cell_type": "code",
      "source": [
        "# Outliers have been replaced with capping/transformation method"
      ],
      "metadata": {
        "id": "v8cii7scvUmh"
      },
      "execution_count": null,
      "outputs": []
    },
    {
      "cell_type": "markdown",
      "source": [
        "# **start of credit risk modelling with probability of default**"
      ],
      "metadata": {
        "id": "T6pbNFyMwF5A"
      }
    },
    {
      "cell_type": "code",
      "source": [
        "# Encoding categorical variables into numerical variables"
      ],
      "metadata": {
        "id": "7WlhIetRv11f"
      },
      "execution_count": null,
      "outputs": []
    },
    {
      "cell_type": "code",
      "source": [
        "df=pd.get_dummies(df,drop_first=True)"
      ],
      "metadata": {
        "id": "NM5ZZOGnwYVD"
      },
      "execution_count": null,
      "outputs": []
    },
    {
      "cell_type": "code",
      "source": [
        "df.head(10)"
      ],
      "metadata": {
        "colab": {
          "base_uri": "https://localhost:8080/",
          "height": 363
        },
        "id": "GvI-lwE_wqKE",
        "outputId": "917304f1-d1a2-4b15-bc4d-cc1ecd6e3b55"
      },
      "execution_count": null,
      "outputs": [
        {
          "output_type": "execute_result",
          "data": {
            "text/plain": [
              "   balance    income  default_Yes  student_Yes\n",
              "0   729.53  44361.63            0            0\n",
              "1   817.18  12106.13            0            1\n",
              "2  1073.55  31767.14            0            0\n",
              "3   529.25  35704.49            0            0\n",
              "4   785.66  38463.50            0            0\n",
              "5   919.59   7491.56            0            1\n",
              "6   825.51  24905.23            0            0\n",
              "7   808.67  17600.45            0            1\n",
              "8  1161.06  37468.53            0            0\n",
              "9     0.00  29275.27            0            0"
            ],
            "text/html": [
              "\n",
              "  <div id=\"df-1911c965-bb63-45c4-afdb-503a1d5da01a\" class=\"colab-df-container\">\n",
              "    <div>\n",
              "<style scoped>\n",
              "    .dataframe tbody tr th:only-of-type {\n",
              "        vertical-align: middle;\n",
              "    }\n",
              "\n",
              "    .dataframe tbody tr th {\n",
              "        vertical-align: top;\n",
              "    }\n",
              "\n",
              "    .dataframe thead th {\n",
              "        text-align: right;\n",
              "    }\n",
              "</style>\n",
              "<table border=\"1\" class=\"dataframe\">\n",
              "  <thead>\n",
              "    <tr style=\"text-align: right;\">\n",
              "      <th></th>\n",
              "      <th>balance</th>\n",
              "      <th>income</th>\n",
              "      <th>default_Yes</th>\n",
              "      <th>student_Yes</th>\n",
              "    </tr>\n",
              "  </thead>\n",
              "  <tbody>\n",
              "    <tr>\n",
              "      <th>0</th>\n",
              "      <td>729.53</td>\n",
              "      <td>44361.63</td>\n",
              "      <td>0</td>\n",
              "      <td>0</td>\n",
              "    </tr>\n",
              "    <tr>\n",
              "      <th>1</th>\n",
              "      <td>817.18</td>\n",
              "      <td>12106.13</td>\n",
              "      <td>0</td>\n",
              "      <td>1</td>\n",
              "    </tr>\n",
              "    <tr>\n",
              "      <th>2</th>\n",
              "      <td>1073.55</td>\n",
              "      <td>31767.14</td>\n",
              "      <td>0</td>\n",
              "      <td>0</td>\n",
              "    </tr>\n",
              "    <tr>\n",
              "      <th>3</th>\n",
              "      <td>529.25</td>\n",
              "      <td>35704.49</td>\n",
              "      <td>0</td>\n",
              "      <td>0</td>\n",
              "    </tr>\n",
              "    <tr>\n",
              "      <th>4</th>\n",
              "      <td>785.66</td>\n",
              "      <td>38463.50</td>\n",
              "      <td>0</td>\n",
              "      <td>0</td>\n",
              "    </tr>\n",
              "    <tr>\n",
              "      <th>5</th>\n",
              "      <td>919.59</td>\n",
              "      <td>7491.56</td>\n",
              "      <td>0</td>\n",
              "      <td>1</td>\n",
              "    </tr>\n",
              "    <tr>\n",
              "      <th>6</th>\n",
              "      <td>825.51</td>\n",
              "      <td>24905.23</td>\n",
              "      <td>0</td>\n",
              "      <td>0</td>\n",
              "    </tr>\n",
              "    <tr>\n",
              "      <th>7</th>\n",
              "      <td>808.67</td>\n",
              "      <td>17600.45</td>\n",
              "      <td>0</td>\n",
              "      <td>1</td>\n",
              "    </tr>\n",
              "    <tr>\n",
              "      <th>8</th>\n",
              "      <td>1161.06</td>\n",
              "      <td>37468.53</td>\n",
              "      <td>0</td>\n",
              "      <td>0</td>\n",
              "    </tr>\n",
              "    <tr>\n",
              "      <th>9</th>\n",
              "      <td>0.00</td>\n",
              "      <td>29275.27</td>\n",
              "      <td>0</td>\n",
              "      <td>0</td>\n",
              "    </tr>\n",
              "  </tbody>\n",
              "</table>\n",
              "</div>\n",
              "    <div class=\"colab-df-buttons\">\n",
              "\n",
              "  <div class=\"colab-df-container\">\n",
              "    <button class=\"colab-df-convert\" onclick=\"convertToInteractive('df-1911c965-bb63-45c4-afdb-503a1d5da01a')\"\n",
              "            title=\"Convert this dataframe to an interactive table.\"\n",
              "            style=\"display:none;\">\n",
              "\n",
              "  <svg xmlns=\"http://www.w3.org/2000/svg\" height=\"24px\" viewBox=\"0 -960 960 960\">\n",
              "    <path d=\"M120-120v-720h720v720H120Zm60-500h600v-160H180v160Zm220 220h160v-160H400v160Zm0 220h160v-160H400v160ZM180-400h160v-160H180v160Zm440 0h160v-160H620v160ZM180-180h160v-160H180v160Zm440 0h160v-160H620v160Z\"/>\n",
              "  </svg>\n",
              "    </button>\n",
              "\n",
              "  <style>\n",
              "    .colab-df-container {\n",
              "      display:flex;\n",
              "      gap: 12px;\n",
              "    }\n",
              "\n",
              "    .colab-df-convert {\n",
              "      background-color: #E8F0FE;\n",
              "      border: none;\n",
              "      border-radius: 50%;\n",
              "      cursor: pointer;\n",
              "      display: none;\n",
              "      fill: #1967D2;\n",
              "      height: 32px;\n",
              "      padding: 0 0 0 0;\n",
              "      width: 32px;\n",
              "    }\n",
              "\n",
              "    .colab-df-convert:hover {\n",
              "      background-color: #E2EBFA;\n",
              "      box-shadow: 0px 1px 2px rgba(60, 64, 67, 0.3), 0px 1px 3px 1px rgba(60, 64, 67, 0.15);\n",
              "      fill: #174EA6;\n",
              "    }\n",
              "\n",
              "    .colab-df-buttons div {\n",
              "      margin-bottom: 4px;\n",
              "    }\n",
              "\n",
              "    [theme=dark] .colab-df-convert {\n",
              "      background-color: #3B4455;\n",
              "      fill: #D2E3FC;\n",
              "    }\n",
              "\n",
              "    [theme=dark] .colab-df-convert:hover {\n",
              "      background-color: #434B5C;\n",
              "      box-shadow: 0px 1px 3px 1px rgba(0, 0, 0, 0.15);\n",
              "      filter: drop-shadow(0px 1px 2px rgba(0, 0, 0, 0.3));\n",
              "      fill: #FFFFFF;\n",
              "    }\n",
              "  </style>\n",
              "\n",
              "    <script>\n",
              "      const buttonEl =\n",
              "        document.querySelector('#df-1911c965-bb63-45c4-afdb-503a1d5da01a button.colab-df-convert');\n",
              "      buttonEl.style.display =\n",
              "        google.colab.kernel.accessAllowed ? 'block' : 'none';\n",
              "\n",
              "      async function convertToInteractive(key) {\n",
              "        const element = document.querySelector('#df-1911c965-bb63-45c4-afdb-503a1d5da01a');\n",
              "        const dataTable =\n",
              "          await google.colab.kernel.invokeFunction('convertToInteractive',\n",
              "                                                    [key], {});\n",
              "        if (!dataTable) return;\n",
              "\n",
              "        const docLinkHtml = 'Like what you see? Visit the ' +\n",
              "          '<a target=\"_blank\" href=https://colab.research.google.com/notebooks/data_table.ipynb>data table notebook</a>'\n",
              "          + ' to learn more about interactive tables.';\n",
              "        element.innerHTML = '';\n",
              "        dataTable['output_type'] = 'display_data';\n",
              "        await google.colab.output.renderOutput(dataTable, element);\n",
              "        const docLink = document.createElement('div');\n",
              "        docLink.innerHTML = docLinkHtml;\n",
              "        element.appendChild(docLink);\n",
              "      }\n",
              "    </script>\n",
              "  </div>\n",
              "\n",
              "\n",
              "<div id=\"df-8e603b6c-dae2-452d-b66c-7c38f4bd0adf\">\n",
              "  <button class=\"colab-df-quickchart\" onclick=\"quickchart('df-8e603b6c-dae2-452d-b66c-7c38f4bd0adf')\"\n",
              "            title=\"Suggest charts.\"\n",
              "            style=\"display:none;\">\n",
              "\n",
              "<svg xmlns=\"http://www.w3.org/2000/svg\" height=\"24px\"viewBox=\"0 0 24 24\"\n",
              "     width=\"24px\">\n",
              "    <g>\n",
              "        <path d=\"M19 3H5c-1.1 0-2 .9-2 2v14c0 1.1.9 2 2 2h14c1.1 0 2-.9 2-2V5c0-1.1-.9-2-2-2zM9 17H7v-7h2v7zm4 0h-2V7h2v10zm4 0h-2v-4h2v4z\"/>\n",
              "    </g>\n",
              "</svg>\n",
              "  </button>\n",
              "\n",
              "<style>\n",
              "  .colab-df-quickchart {\n",
              "      --bg-color: #E8F0FE;\n",
              "      --fill-color: #1967D2;\n",
              "      --hover-bg-color: #E2EBFA;\n",
              "      --hover-fill-color: #174EA6;\n",
              "      --disabled-fill-color: #AAA;\n",
              "      --disabled-bg-color: #DDD;\n",
              "  }\n",
              "\n",
              "  [theme=dark] .colab-df-quickchart {\n",
              "      --bg-color: #3B4455;\n",
              "      --fill-color: #D2E3FC;\n",
              "      --hover-bg-color: #434B5C;\n",
              "      --hover-fill-color: #FFFFFF;\n",
              "      --disabled-bg-color: #3B4455;\n",
              "      --disabled-fill-color: #666;\n",
              "  }\n",
              "\n",
              "  .colab-df-quickchart {\n",
              "    background-color: var(--bg-color);\n",
              "    border: none;\n",
              "    border-radius: 50%;\n",
              "    cursor: pointer;\n",
              "    display: none;\n",
              "    fill: var(--fill-color);\n",
              "    height: 32px;\n",
              "    padding: 0;\n",
              "    width: 32px;\n",
              "  }\n",
              "\n",
              "  .colab-df-quickchart:hover {\n",
              "    background-color: var(--hover-bg-color);\n",
              "    box-shadow: 0 1px 2px rgba(60, 64, 67, 0.3), 0 1px 3px 1px rgba(60, 64, 67, 0.15);\n",
              "    fill: var(--button-hover-fill-color);\n",
              "  }\n",
              "\n",
              "  .colab-df-quickchart-complete:disabled,\n",
              "  .colab-df-quickchart-complete:disabled:hover {\n",
              "    background-color: var(--disabled-bg-color);\n",
              "    fill: var(--disabled-fill-color);\n",
              "    box-shadow: none;\n",
              "  }\n",
              "\n",
              "  .colab-df-spinner {\n",
              "    border: 2px solid var(--fill-color);\n",
              "    border-color: transparent;\n",
              "    border-bottom-color: var(--fill-color);\n",
              "    animation:\n",
              "      spin 1s steps(1) infinite;\n",
              "  }\n",
              "\n",
              "  @keyframes spin {\n",
              "    0% {\n",
              "      border-color: transparent;\n",
              "      border-bottom-color: var(--fill-color);\n",
              "      border-left-color: var(--fill-color);\n",
              "    }\n",
              "    20% {\n",
              "      border-color: transparent;\n",
              "      border-left-color: var(--fill-color);\n",
              "      border-top-color: var(--fill-color);\n",
              "    }\n",
              "    30% {\n",
              "      border-color: transparent;\n",
              "      border-left-color: var(--fill-color);\n",
              "      border-top-color: var(--fill-color);\n",
              "      border-right-color: var(--fill-color);\n",
              "    }\n",
              "    40% {\n",
              "      border-color: transparent;\n",
              "      border-right-color: var(--fill-color);\n",
              "      border-top-color: var(--fill-color);\n",
              "    }\n",
              "    60% {\n",
              "      border-color: transparent;\n",
              "      border-right-color: var(--fill-color);\n",
              "    }\n",
              "    80% {\n",
              "      border-color: transparent;\n",
              "      border-right-color: var(--fill-color);\n",
              "      border-bottom-color: var(--fill-color);\n",
              "    }\n",
              "    90% {\n",
              "      border-color: transparent;\n",
              "      border-bottom-color: var(--fill-color);\n",
              "    }\n",
              "  }\n",
              "</style>\n",
              "\n",
              "  <script>\n",
              "    async function quickchart(key) {\n",
              "      const quickchartButtonEl =\n",
              "        document.querySelector('#' + key + ' button');\n",
              "      quickchartButtonEl.disabled = true;  // To prevent multiple clicks.\n",
              "      quickchartButtonEl.classList.add('colab-df-spinner');\n",
              "      try {\n",
              "        const charts = await google.colab.kernel.invokeFunction(\n",
              "            'suggestCharts', [key], {});\n",
              "      } catch (error) {\n",
              "        console.error('Error during call to suggestCharts:', error);\n",
              "      }\n",
              "      quickchartButtonEl.classList.remove('colab-df-spinner');\n",
              "      quickchartButtonEl.classList.add('colab-df-quickchart-complete');\n",
              "    }\n",
              "    (() => {\n",
              "      let quickchartButtonEl =\n",
              "        document.querySelector('#df-8e603b6c-dae2-452d-b66c-7c38f4bd0adf button');\n",
              "      quickchartButtonEl.style.display =\n",
              "        google.colab.kernel.accessAllowed ? 'block' : 'none';\n",
              "    })();\n",
              "  </script>\n",
              "</div>\n",
              "    </div>\n",
              "  </div>\n"
            ]
          },
          "metadata": {},
          "execution_count": 52
        }
      ]
    },
    {
      "cell_type": "code",
      "source": [
        "# Relabeling column as per original names"
      ],
      "metadata": {
        "id": "uBGaxymKwsZN"
      },
      "execution_count": null,
      "outputs": []
    },
    {
      "cell_type": "code",
      "source": [
        "df.columns"
      ],
      "metadata": {
        "colab": {
          "base_uri": "https://localhost:8080/"
        },
        "id": "nmzWzO7cw37a",
        "outputId": "82641fc4-3e3e-4238-97c3-ddf01caf8669"
      },
      "execution_count": null,
      "outputs": [
        {
          "output_type": "execute_result",
          "data": {
            "text/plain": [
              "Index(['balance', 'income', 'default_Yes', 'student_Yes'], dtype='object')"
            ]
          },
          "metadata": {},
          "execution_count": 54
        }
      ]
    },
    {
      "cell_type": "code",
      "source": [
        "df.columns=[\"balance\",\"income\",\"default\",\"student\"]"
      ],
      "metadata": {
        "id": "-z-NzjIUw56L"
      },
      "execution_count": null,
      "outputs": []
    },
    {
      "cell_type": "code",
      "source": [
        "df"
      ],
      "metadata": {
        "colab": {
          "base_uri": "https://localhost:8080/",
          "height": 424
        },
        "id": "JRRlAGjexCXo",
        "outputId": "caeddb0d-6006-4db8-d272-1f920fed3002"
      },
      "execution_count": null,
      "outputs": [
        {
          "output_type": "execute_result",
          "data": {
            "text/plain": [
              "      balance    income  default  student\n",
              "0      729.53  44361.63        0        0\n",
              "1      817.18  12106.13        0        1\n",
              "2     1073.55  31767.14        0        0\n",
              "3      529.25  35704.49        0        0\n",
              "4      785.66  38463.50        0        0\n",
              "...       ...       ...      ...      ...\n",
              "9995   711.56  52992.38        0        0\n",
              "9996   757.96  19660.72        0        0\n",
              "9997   845.41  58636.16        0        0\n",
              "9998  1569.01  36669.11        0        0\n",
              "9999   200.92  16862.95        0        1\n",
              "\n",
              "[10000 rows x 4 columns]"
            ],
            "text/html": [
              "\n",
              "  <div id=\"df-5e851b18-459f-469b-a344-d16fb9679e69\" class=\"colab-df-container\">\n",
              "    <div>\n",
              "<style scoped>\n",
              "    .dataframe tbody tr th:only-of-type {\n",
              "        vertical-align: middle;\n",
              "    }\n",
              "\n",
              "    .dataframe tbody tr th {\n",
              "        vertical-align: top;\n",
              "    }\n",
              "\n",
              "    .dataframe thead th {\n",
              "        text-align: right;\n",
              "    }\n",
              "</style>\n",
              "<table border=\"1\" class=\"dataframe\">\n",
              "  <thead>\n",
              "    <tr style=\"text-align: right;\">\n",
              "      <th></th>\n",
              "      <th>balance</th>\n",
              "      <th>income</th>\n",
              "      <th>default</th>\n",
              "      <th>student</th>\n",
              "    </tr>\n",
              "  </thead>\n",
              "  <tbody>\n",
              "    <tr>\n",
              "      <th>0</th>\n",
              "      <td>729.53</td>\n",
              "      <td>44361.63</td>\n",
              "      <td>0</td>\n",
              "      <td>0</td>\n",
              "    </tr>\n",
              "    <tr>\n",
              "      <th>1</th>\n",
              "      <td>817.18</td>\n",
              "      <td>12106.13</td>\n",
              "      <td>0</td>\n",
              "      <td>1</td>\n",
              "    </tr>\n",
              "    <tr>\n",
              "      <th>2</th>\n",
              "      <td>1073.55</td>\n",
              "      <td>31767.14</td>\n",
              "      <td>0</td>\n",
              "      <td>0</td>\n",
              "    </tr>\n",
              "    <tr>\n",
              "      <th>3</th>\n",
              "      <td>529.25</td>\n",
              "      <td>35704.49</td>\n",
              "      <td>0</td>\n",
              "      <td>0</td>\n",
              "    </tr>\n",
              "    <tr>\n",
              "      <th>4</th>\n",
              "      <td>785.66</td>\n",
              "      <td>38463.50</td>\n",
              "      <td>0</td>\n",
              "      <td>0</td>\n",
              "    </tr>\n",
              "    <tr>\n",
              "      <th>...</th>\n",
              "      <td>...</td>\n",
              "      <td>...</td>\n",
              "      <td>...</td>\n",
              "      <td>...</td>\n",
              "    </tr>\n",
              "    <tr>\n",
              "      <th>9995</th>\n",
              "      <td>711.56</td>\n",
              "      <td>52992.38</td>\n",
              "      <td>0</td>\n",
              "      <td>0</td>\n",
              "    </tr>\n",
              "    <tr>\n",
              "      <th>9996</th>\n",
              "      <td>757.96</td>\n",
              "      <td>19660.72</td>\n",
              "      <td>0</td>\n",
              "      <td>0</td>\n",
              "    </tr>\n",
              "    <tr>\n",
              "      <th>9997</th>\n",
              "      <td>845.41</td>\n",
              "      <td>58636.16</td>\n",
              "      <td>0</td>\n",
              "      <td>0</td>\n",
              "    </tr>\n",
              "    <tr>\n",
              "      <th>9998</th>\n",
              "      <td>1569.01</td>\n",
              "      <td>36669.11</td>\n",
              "      <td>0</td>\n",
              "      <td>0</td>\n",
              "    </tr>\n",
              "    <tr>\n",
              "      <th>9999</th>\n",
              "      <td>200.92</td>\n",
              "      <td>16862.95</td>\n",
              "      <td>0</td>\n",
              "      <td>1</td>\n",
              "    </tr>\n",
              "  </tbody>\n",
              "</table>\n",
              "<p>10000 rows × 4 columns</p>\n",
              "</div>\n",
              "    <div class=\"colab-df-buttons\">\n",
              "\n",
              "  <div class=\"colab-df-container\">\n",
              "    <button class=\"colab-df-convert\" onclick=\"convertToInteractive('df-5e851b18-459f-469b-a344-d16fb9679e69')\"\n",
              "            title=\"Convert this dataframe to an interactive table.\"\n",
              "            style=\"display:none;\">\n",
              "\n",
              "  <svg xmlns=\"http://www.w3.org/2000/svg\" height=\"24px\" viewBox=\"0 -960 960 960\">\n",
              "    <path d=\"M120-120v-720h720v720H120Zm60-500h600v-160H180v160Zm220 220h160v-160H400v160Zm0 220h160v-160H400v160ZM180-400h160v-160H180v160Zm440 0h160v-160H620v160ZM180-180h160v-160H180v160Zm440 0h160v-160H620v160Z\"/>\n",
              "  </svg>\n",
              "    </button>\n",
              "\n",
              "  <style>\n",
              "    .colab-df-container {\n",
              "      display:flex;\n",
              "      gap: 12px;\n",
              "    }\n",
              "\n",
              "    .colab-df-convert {\n",
              "      background-color: #E8F0FE;\n",
              "      border: none;\n",
              "      border-radius: 50%;\n",
              "      cursor: pointer;\n",
              "      display: none;\n",
              "      fill: #1967D2;\n",
              "      height: 32px;\n",
              "      padding: 0 0 0 0;\n",
              "      width: 32px;\n",
              "    }\n",
              "\n",
              "    .colab-df-convert:hover {\n",
              "      background-color: #E2EBFA;\n",
              "      box-shadow: 0px 1px 2px rgba(60, 64, 67, 0.3), 0px 1px 3px 1px rgba(60, 64, 67, 0.15);\n",
              "      fill: #174EA6;\n",
              "    }\n",
              "\n",
              "    .colab-df-buttons div {\n",
              "      margin-bottom: 4px;\n",
              "    }\n",
              "\n",
              "    [theme=dark] .colab-df-convert {\n",
              "      background-color: #3B4455;\n",
              "      fill: #D2E3FC;\n",
              "    }\n",
              "\n",
              "    [theme=dark] .colab-df-convert:hover {\n",
              "      background-color: #434B5C;\n",
              "      box-shadow: 0px 1px 3px 1px rgba(0, 0, 0, 0.15);\n",
              "      filter: drop-shadow(0px 1px 2px rgba(0, 0, 0, 0.3));\n",
              "      fill: #FFFFFF;\n",
              "    }\n",
              "  </style>\n",
              "\n",
              "    <script>\n",
              "      const buttonEl =\n",
              "        document.querySelector('#df-5e851b18-459f-469b-a344-d16fb9679e69 button.colab-df-convert');\n",
              "      buttonEl.style.display =\n",
              "        google.colab.kernel.accessAllowed ? 'block' : 'none';\n",
              "\n",
              "      async function convertToInteractive(key) {\n",
              "        const element = document.querySelector('#df-5e851b18-459f-469b-a344-d16fb9679e69');\n",
              "        const dataTable =\n",
              "          await google.colab.kernel.invokeFunction('convertToInteractive',\n",
              "                                                    [key], {});\n",
              "        if (!dataTable) return;\n",
              "\n",
              "        const docLinkHtml = 'Like what you see? Visit the ' +\n",
              "          '<a target=\"_blank\" href=https://colab.research.google.com/notebooks/data_table.ipynb>data table notebook</a>'\n",
              "          + ' to learn more about interactive tables.';\n",
              "        element.innerHTML = '';\n",
              "        dataTable['output_type'] = 'display_data';\n",
              "        await google.colab.output.renderOutput(dataTable, element);\n",
              "        const docLink = document.createElement('div');\n",
              "        docLink.innerHTML = docLinkHtml;\n",
              "        element.appendChild(docLink);\n",
              "      }\n",
              "    </script>\n",
              "  </div>\n",
              "\n",
              "\n",
              "<div id=\"df-f1fe1802-c8d1-4f7b-9706-839315c9ad3c\">\n",
              "  <button class=\"colab-df-quickchart\" onclick=\"quickchart('df-f1fe1802-c8d1-4f7b-9706-839315c9ad3c')\"\n",
              "            title=\"Suggest charts.\"\n",
              "            style=\"display:none;\">\n",
              "\n",
              "<svg xmlns=\"http://www.w3.org/2000/svg\" height=\"24px\"viewBox=\"0 0 24 24\"\n",
              "     width=\"24px\">\n",
              "    <g>\n",
              "        <path d=\"M19 3H5c-1.1 0-2 .9-2 2v14c0 1.1.9 2 2 2h14c1.1 0 2-.9 2-2V5c0-1.1-.9-2-2-2zM9 17H7v-7h2v7zm4 0h-2V7h2v10zm4 0h-2v-4h2v4z\"/>\n",
              "    </g>\n",
              "</svg>\n",
              "  </button>\n",
              "\n",
              "<style>\n",
              "  .colab-df-quickchart {\n",
              "      --bg-color: #E8F0FE;\n",
              "      --fill-color: #1967D2;\n",
              "      --hover-bg-color: #E2EBFA;\n",
              "      --hover-fill-color: #174EA6;\n",
              "      --disabled-fill-color: #AAA;\n",
              "      --disabled-bg-color: #DDD;\n",
              "  }\n",
              "\n",
              "  [theme=dark] .colab-df-quickchart {\n",
              "      --bg-color: #3B4455;\n",
              "      --fill-color: #D2E3FC;\n",
              "      --hover-bg-color: #434B5C;\n",
              "      --hover-fill-color: #FFFFFF;\n",
              "      --disabled-bg-color: #3B4455;\n",
              "      --disabled-fill-color: #666;\n",
              "  }\n",
              "\n",
              "  .colab-df-quickchart {\n",
              "    background-color: var(--bg-color);\n",
              "    border: none;\n",
              "    border-radius: 50%;\n",
              "    cursor: pointer;\n",
              "    display: none;\n",
              "    fill: var(--fill-color);\n",
              "    height: 32px;\n",
              "    padding: 0;\n",
              "    width: 32px;\n",
              "  }\n",
              "\n",
              "  .colab-df-quickchart:hover {\n",
              "    background-color: var(--hover-bg-color);\n",
              "    box-shadow: 0 1px 2px rgba(60, 64, 67, 0.3), 0 1px 3px 1px rgba(60, 64, 67, 0.15);\n",
              "    fill: var(--button-hover-fill-color);\n",
              "  }\n",
              "\n",
              "  .colab-df-quickchart-complete:disabled,\n",
              "  .colab-df-quickchart-complete:disabled:hover {\n",
              "    background-color: var(--disabled-bg-color);\n",
              "    fill: var(--disabled-fill-color);\n",
              "    box-shadow: none;\n",
              "  }\n",
              "\n",
              "  .colab-df-spinner {\n",
              "    border: 2px solid var(--fill-color);\n",
              "    border-color: transparent;\n",
              "    border-bottom-color: var(--fill-color);\n",
              "    animation:\n",
              "      spin 1s steps(1) infinite;\n",
              "  }\n",
              "\n",
              "  @keyframes spin {\n",
              "    0% {\n",
              "      border-color: transparent;\n",
              "      border-bottom-color: var(--fill-color);\n",
              "      border-left-color: var(--fill-color);\n",
              "    }\n",
              "    20% {\n",
              "      border-color: transparent;\n",
              "      border-left-color: var(--fill-color);\n",
              "      border-top-color: var(--fill-color);\n",
              "    }\n",
              "    30% {\n",
              "      border-color: transparent;\n",
              "      border-left-color: var(--fill-color);\n",
              "      border-top-color: var(--fill-color);\n",
              "      border-right-color: var(--fill-color);\n",
              "    }\n",
              "    40% {\n",
              "      border-color: transparent;\n",
              "      border-right-color: var(--fill-color);\n",
              "      border-top-color: var(--fill-color);\n",
              "    }\n",
              "    60% {\n",
              "      border-color: transparent;\n",
              "      border-right-color: var(--fill-color);\n",
              "    }\n",
              "    80% {\n",
              "      border-color: transparent;\n",
              "      border-right-color: var(--fill-color);\n",
              "      border-bottom-color: var(--fill-color);\n",
              "    }\n",
              "    90% {\n",
              "      border-color: transparent;\n",
              "      border-bottom-color: var(--fill-color);\n",
              "    }\n",
              "  }\n",
              "</style>\n",
              "\n",
              "  <script>\n",
              "    async function quickchart(key) {\n",
              "      const quickchartButtonEl =\n",
              "        document.querySelector('#' + key + ' button');\n",
              "      quickchartButtonEl.disabled = true;  // To prevent multiple clicks.\n",
              "      quickchartButtonEl.classList.add('colab-df-spinner');\n",
              "      try {\n",
              "        const charts = await google.colab.kernel.invokeFunction(\n",
              "            'suggestCharts', [key], {});\n",
              "      } catch (error) {\n",
              "        console.error('Error during call to suggestCharts:', error);\n",
              "      }\n",
              "      quickchartButtonEl.classList.remove('colab-df-spinner');\n",
              "      quickchartButtonEl.classList.add('colab-df-quickchart-complete');\n",
              "    }\n",
              "    (() => {\n",
              "      let quickchartButtonEl =\n",
              "        document.querySelector('#df-f1fe1802-c8d1-4f7b-9706-839315c9ad3c button');\n",
              "      quickchartButtonEl.style.display =\n",
              "        google.colab.kernel.accessAllowed ? 'block' : 'none';\n",
              "    })();\n",
              "  </script>\n",
              "</div>\n",
              "    </div>\n",
              "  </div>\n"
            ]
          },
          "metadata": {},
          "execution_count": 56
        }
      ]
    },
    {
      "cell_type": "code",
      "source": [
        "# dividing the data into dependent and independent variables"
      ],
      "metadata": {
        "id": "cPvMN05Axata"
      },
      "execution_count": null,
      "outputs": []
    },
    {
      "cell_type": "code",
      "source": [
        "x=df.drop('default',axis=1)"
      ],
      "metadata": {
        "id": "zVJ9u20_xiXB"
      },
      "execution_count": null,
      "outputs": []
    },
    {
      "cell_type": "code",
      "source": [
        "y=df[\"default\"]"
      ],
      "metadata": {
        "id": "B3DPxu_lxpUN"
      },
      "execution_count": null,
      "outputs": []
    },
    {
      "cell_type": "code",
      "source": [
        "# dividing the data into train and test split"
      ],
      "metadata": {
        "id": "PIICzjCjxDgx"
      },
      "execution_count": null,
      "outputs": []
    },
    {
      "cell_type": "code",
      "source": [
        "from sklearn.model_selection import train_test_split"
      ],
      "metadata": {
        "id": "K_o4dzKaxKiR"
      },
      "execution_count": null,
      "outputs": []
    },
    {
      "cell_type": "code",
      "source": [
        "x_train,x_test,y_train,y_test=train_test_split(x,y,test_size=0.2,random_state=0,stratify=y)\n"
      ],
      "metadata": {
        "id": "rmvn7NIoxQcq"
      },
      "execution_count": null,
      "outputs": []
    },
    {
      "cell_type": "code",
      "source": [
        "# Why stratify=y?\n",
        "# -----------please note this is highly inbalance data and possibly results in different proprtions in y variables between train and test"
      ],
      "metadata": {
        "id": "TFUyEP2Pxx-x"
      },
      "execution_count": null,
      "outputs": []
    },
    {
      "cell_type": "code",
      "source": [
        "print(x_train.shape)"
      ],
      "metadata": {
        "colab": {
          "base_uri": "https://localhost:8080/"
        },
        "id": "CUa60Cc3yVzG",
        "outputId": "13a7e08a-bc98-42c6-8536-deb47381ff43"
      },
      "execution_count": null,
      "outputs": [
        {
          "output_type": "stream",
          "name": "stdout",
          "text": [
            "(8000, 3)\n"
          ]
        }
      ]
    },
    {
      "cell_type": "code",
      "source": [
        "print(x_test.shape)"
      ],
      "metadata": {
        "colab": {
          "base_uri": "https://localhost:8080/"
        },
        "id": "1S3mljFTzfMR",
        "outputId": "790f2bb8-b0e2-4097-80e5-632a47d9b3d1"
      },
      "execution_count": null,
      "outputs": [
        {
          "output_type": "stream",
          "name": "stdout",
          "text": [
            "(2000, 3)\n"
          ]
        }
      ]
    },
    {
      "cell_type": "code",
      "source": [
        "print(y_train.value_counts(normalize=True))"
      ],
      "metadata": {
        "colab": {
          "base_uri": "https://localhost:8080/"
        },
        "id": "hpWS0WLgziyG",
        "outputId": "5f3ef02f-1250-4892-ab7e-fa46e3ee6203"
      },
      "execution_count": null,
      "outputs": [
        {
          "output_type": "stream",
          "name": "stdout",
          "text": [
            "0    0.96675\n",
            "1    0.03325\n",
            "Name: default, dtype: float64\n"
          ]
        }
      ]
    },
    {
      "cell_type": "code",
      "source": [
        "print(y_test.value_counts(normalize=True))"
      ],
      "metadata": {
        "colab": {
          "base_uri": "https://localhost:8080/"
        },
        "id": "gphRw6jCzwS6",
        "outputId": "b0370552-d4d3-4820-c0b0-c084ed128be6"
      },
      "execution_count": null,
      "outputs": [
        {
          "output_type": "stream",
          "name": "stdout",
          "text": [
            "0    0.9665\n",
            "1    0.0335\n",
            "Name: default, dtype: float64\n"
          ]
        }
      ]
    },
    {
      "cell_type": "markdown",
      "source": [
        "Treating the target imbalance using smote"
      ],
      "metadata": {
        "id": "4GIxmjCkz7OY"
      }
    },
    {
      "cell_type": "code",
      "source": [
        "!pip install imblearn"
      ],
      "metadata": {
        "colab": {
          "base_uri": "https://localhost:8080/"
        },
        "id": "0jAjYFmIzzy6",
        "outputId": "177e0bb6-137e-4916-c599-aae755b340fd"
      },
      "execution_count": null,
      "outputs": [
        {
          "output_type": "stream",
          "name": "stdout",
          "text": [
            "Collecting imblearn\n",
            "  Downloading imblearn-0.0-py2.py3-none-any.whl (1.9 kB)\n",
            "Requirement already satisfied: imbalanced-learn in /usr/local/lib/python3.10/dist-packages (from imblearn) (0.10.1)\n",
            "Requirement already satisfied: numpy>=1.17.3 in /usr/local/lib/python3.10/dist-packages (from imbalanced-learn->imblearn) (1.23.5)\n",
            "Requirement already satisfied: scipy>=1.3.2 in /usr/local/lib/python3.10/dist-packages (from imbalanced-learn->imblearn) (1.10.1)\n",
            "Requirement already satisfied: scikit-learn>=1.0.2 in /usr/local/lib/python3.10/dist-packages (from imbalanced-learn->imblearn) (1.2.2)\n",
            "Requirement already satisfied: joblib>=1.1.1 in /usr/local/lib/python3.10/dist-packages (from imbalanced-learn->imblearn) (1.3.2)\n",
            "Requirement already satisfied: threadpoolctl>=2.0.0 in /usr/local/lib/python3.10/dist-packages (from imbalanced-learn->imblearn) (3.2.0)\n",
            "Installing collected packages: imblearn\n",
            "Successfully installed imblearn-0.0\n"
          ]
        }
      ]
    },
    {
      "cell_type": "code",
      "source": [
        "from imblearn.over_sampling import SMOTE"
      ],
      "metadata": {
        "id": "KzhKeIIz0Glx"
      },
      "execution_count": null,
      "outputs": []
    },
    {
      "cell_type": "code",
      "source": [
        "sm=SMOTE(random_state=0,sampling_strategy=0.75)"
      ],
      "metadata": {
        "id": "HufTrHor0PU9"
      },
      "execution_count": null,
      "outputs": []
    },
    {
      "cell_type": "code",
      "source": [
        "x_res,y_res=sm.fit_resample(x_train,y_train)"
      ],
      "metadata": {
        "id": "xJ30PXzz3xEg"
      },
      "execution_count": null,
      "outputs": []
    },
    {
      "cell_type": "code",
      "source": [
        "y.shape"
      ],
      "metadata": {
        "colab": {
          "base_uri": "https://localhost:8080/"
        },
        "id": "5zF4ZpIu4PP_",
        "outputId": "42a19831-f30b-4163-f724-9374785af3bd"
      },
      "execution_count": null,
      "outputs": [
        {
          "output_type": "execute_result",
          "data": {
            "text/plain": [
              "(10000,)"
            ]
          },
          "metadata": {},
          "execution_count": 72
        }
      ]
    },
    {
      "cell_type": "code",
      "source": [
        "\n",
        "y_res.shape"
      ],
      "metadata": {
        "colab": {
          "base_uri": "https://localhost:8080/"
        },
        "id": "pWQMbFLA4SJR",
        "outputId": "00434367-5067-4a3f-8f7b-91d20bd1b476"
      },
      "execution_count": null,
      "outputs": [
        {
          "output_type": "execute_result",
          "data": {
            "text/plain": [
              "(13534,)"
            ]
          },
          "metadata": {},
          "execution_count": 73
        }
      ]
    },
    {
      "cell_type": "code",
      "source": [
        "# EXposure at Default-------Regression analysis\n",
        "# Probability of Default-------classification Problem\n",
        "# loss at Default"
      ],
      "metadata": {
        "id": "xV9ZxEbPyjJI"
      },
      "execution_count": null,
      "outputs": []
    },
    {
      "cell_type": "code",
      "source": [
        "y.value_counts()"
      ],
      "metadata": {
        "colab": {
          "base_uri": "https://localhost:8080/"
        },
        "id": "DcG0WA9oy3Np",
        "outputId": "fd79d52a-8f2c-409e-85ca-5502d3f99f06"
      },
      "execution_count": null,
      "outputs": [
        {
          "output_type": "execute_result",
          "data": {
            "text/plain": [
              "0    9667\n",
              "1     333\n",
              "Name: default, dtype: int64"
            ]
          },
          "metadata": {},
          "execution_count": 75
        }
      ]
    },
    {
      "cell_type": "code",
      "source": [
        "y_res.value_counts()"
      ],
      "metadata": {
        "colab": {
          "base_uri": "https://localhost:8080/"
        },
        "id": "b0FMj1WW1qYu",
        "outputId": "152009ac-45e8-4e89-c892-56f96d360763"
      },
      "execution_count": null,
      "outputs": [
        {
          "output_type": "execute_result",
          "data": {
            "text/plain": [
              "0    7734\n",
              "1    5800\n",
              "Name: default, dtype: int64"
            ]
          },
          "metadata": {},
          "execution_count": 76
        }
      ]
    },
    {
      "cell_type": "code",
      "source": [
        "Default_smote =pd.concat([x_res,y_res],axis=1)"
      ],
      "metadata": {
        "id": "xLmCydoD1qbW"
      },
      "execution_count": null,
      "outputs": []
    },
    {
      "cell_type": "code",
      "source": [
        "# Balance Data------smote"
      ],
      "metadata": {
        "id": "HzR6ggZL1qfS"
      },
      "execution_count": null,
      "outputs": []
    },
    {
      "cell_type": "code",
      "source": [
        "Default_smote.groupby(\"default\").mean()"
      ],
      "metadata": {
        "colab": {
          "base_uri": "https://localhost:8080/",
          "height": 143
        },
        "id": "gRHAy6dK1qjL",
        "outputId": "aa66483c-9856-4438-f3dc-1d028c95b598"
      },
      "execution_count": null,
      "outputs": [
        {
          "output_type": "execute_result",
          "data": {
            "text/plain": [
              "             balance        income   student\n",
              "default                                     \n",
              "0         806.236019  33534.979284  0.292216\n",
              "1        1741.034610  32755.807972  0.326897"
            ],
            "text/html": [
              "\n",
              "  <div id=\"df-e8905c76-e5f5-4ab8-b300-972df7c395b0\" class=\"colab-df-container\">\n",
              "    <div>\n",
              "<style scoped>\n",
              "    .dataframe tbody tr th:only-of-type {\n",
              "        vertical-align: middle;\n",
              "    }\n",
              "\n",
              "    .dataframe tbody tr th {\n",
              "        vertical-align: top;\n",
              "    }\n",
              "\n",
              "    .dataframe thead th {\n",
              "        text-align: right;\n",
              "    }\n",
              "</style>\n",
              "<table border=\"1\" class=\"dataframe\">\n",
              "  <thead>\n",
              "    <tr style=\"text-align: right;\">\n",
              "      <th></th>\n",
              "      <th>balance</th>\n",
              "      <th>income</th>\n",
              "      <th>student</th>\n",
              "    </tr>\n",
              "    <tr>\n",
              "      <th>default</th>\n",
              "      <th></th>\n",
              "      <th></th>\n",
              "      <th></th>\n",
              "    </tr>\n",
              "  </thead>\n",
              "  <tbody>\n",
              "    <tr>\n",
              "      <th>0</th>\n",
              "      <td>806.236019</td>\n",
              "      <td>33534.979284</td>\n",
              "      <td>0.292216</td>\n",
              "    </tr>\n",
              "    <tr>\n",
              "      <th>1</th>\n",
              "      <td>1741.034610</td>\n",
              "      <td>32755.807972</td>\n",
              "      <td>0.326897</td>\n",
              "    </tr>\n",
              "  </tbody>\n",
              "</table>\n",
              "</div>\n",
              "    <div class=\"colab-df-buttons\">\n",
              "\n",
              "  <div class=\"colab-df-container\">\n",
              "    <button class=\"colab-df-convert\" onclick=\"convertToInteractive('df-e8905c76-e5f5-4ab8-b300-972df7c395b0')\"\n",
              "            title=\"Convert this dataframe to an interactive table.\"\n",
              "            style=\"display:none;\">\n",
              "\n",
              "  <svg xmlns=\"http://www.w3.org/2000/svg\" height=\"24px\" viewBox=\"0 -960 960 960\">\n",
              "    <path d=\"M120-120v-720h720v720H120Zm60-500h600v-160H180v160Zm220 220h160v-160H400v160Zm0 220h160v-160H400v160ZM180-400h160v-160H180v160Zm440 0h160v-160H620v160ZM180-180h160v-160H180v160Zm440 0h160v-160H620v160Z\"/>\n",
              "  </svg>\n",
              "    </button>\n",
              "\n",
              "  <style>\n",
              "    .colab-df-container {\n",
              "      display:flex;\n",
              "      gap: 12px;\n",
              "    }\n",
              "\n",
              "    .colab-df-convert {\n",
              "      background-color: #E8F0FE;\n",
              "      border: none;\n",
              "      border-radius: 50%;\n",
              "      cursor: pointer;\n",
              "      display: none;\n",
              "      fill: #1967D2;\n",
              "      height: 32px;\n",
              "      padding: 0 0 0 0;\n",
              "      width: 32px;\n",
              "    }\n",
              "\n",
              "    .colab-df-convert:hover {\n",
              "      background-color: #E2EBFA;\n",
              "      box-shadow: 0px 1px 2px rgba(60, 64, 67, 0.3), 0px 1px 3px 1px rgba(60, 64, 67, 0.15);\n",
              "      fill: #174EA6;\n",
              "    }\n",
              "\n",
              "    .colab-df-buttons div {\n",
              "      margin-bottom: 4px;\n",
              "    }\n",
              "\n",
              "    [theme=dark] .colab-df-convert {\n",
              "      background-color: #3B4455;\n",
              "      fill: #D2E3FC;\n",
              "    }\n",
              "\n",
              "    [theme=dark] .colab-df-convert:hover {\n",
              "      background-color: #434B5C;\n",
              "      box-shadow: 0px 1px 3px 1px rgba(0, 0, 0, 0.15);\n",
              "      filter: drop-shadow(0px 1px 2px rgba(0, 0, 0, 0.3));\n",
              "      fill: #FFFFFF;\n",
              "    }\n",
              "  </style>\n",
              "\n",
              "    <script>\n",
              "      const buttonEl =\n",
              "        document.querySelector('#df-e8905c76-e5f5-4ab8-b300-972df7c395b0 button.colab-df-convert');\n",
              "      buttonEl.style.display =\n",
              "        google.colab.kernel.accessAllowed ? 'block' : 'none';\n",
              "\n",
              "      async function convertToInteractive(key) {\n",
              "        const element = document.querySelector('#df-e8905c76-e5f5-4ab8-b300-972df7c395b0');\n",
              "        const dataTable =\n",
              "          await google.colab.kernel.invokeFunction('convertToInteractive',\n",
              "                                                    [key], {});\n",
              "        if (!dataTable) return;\n",
              "\n",
              "        const docLinkHtml = 'Like what you see? Visit the ' +\n",
              "          '<a target=\"_blank\" href=https://colab.research.google.com/notebooks/data_table.ipynb>data table notebook</a>'\n",
              "          + ' to learn more about interactive tables.';\n",
              "        element.innerHTML = '';\n",
              "        dataTable['output_type'] = 'display_data';\n",
              "        await google.colab.output.renderOutput(dataTable, element);\n",
              "        const docLink = document.createElement('div');\n",
              "        docLink.innerHTML = docLinkHtml;\n",
              "        element.appendChild(docLink);\n",
              "      }\n",
              "    </script>\n",
              "  </div>\n",
              "\n",
              "\n",
              "<div id=\"df-1dea2afc-eb41-4a7c-a9b9-8db4af253edd\">\n",
              "  <button class=\"colab-df-quickchart\" onclick=\"quickchart('df-1dea2afc-eb41-4a7c-a9b9-8db4af253edd')\"\n",
              "            title=\"Suggest charts.\"\n",
              "            style=\"display:none;\">\n",
              "\n",
              "<svg xmlns=\"http://www.w3.org/2000/svg\" height=\"24px\"viewBox=\"0 0 24 24\"\n",
              "     width=\"24px\">\n",
              "    <g>\n",
              "        <path d=\"M19 3H5c-1.1 0-2 .9-2 2v14c0 1.1.9 2 2 2h14c1.1 0 2-.9 2-2V5c0-1.1-.9-2-2-2zM9 17H7v-7h2v7zm4 0h-2V7h2v10zm4 0h-2v-4h2v4z\"/>\n",
              "    </g>\n",
              "</svg>\n",
              "  </button>\n",
              "\n",
              "<style>\n",
              "  .colab-df-quickchart {\n",
              "      --bg-color: #E8F0FE;\n",
              "      --fill-color: #1967D2;\n",
              "      --hover-bg-color: #E2EBFA;\n",
              "      --hover-fill-color: #174EA6;\n",
              "      --disabled-fill-color: #AAA;\n",
              "      --disabled-bg-color: #DDD;\n",
              "  }\n",
              "\n",
              "  [theme=dark] .colab-df-quickchart {\n",
              "      --bg-color: #3B4455;\n",
              "      --fill-color: #D2E3FC;\n",
              "      --hover-bg-color: #434B5C;\n",
              "      --hover-fill-color: #FFFFFF;\n",
              "      --disabled-bg-color: #3B4455;\n",
              "      --disabled-fill-color: #666;\n",
              "  }\n",
              "\n",
              "  .colab-df-quickchart {\n",
              "    background-color: var(--bg-color);\n",
              "    border: none;\n",
              "    border-radius: 50%;\n",
              "    cursor: pointer;\n",
              "    display: none;\n",
              "    fill: var(--fill-color);\n",
              "    height: 32px;\n",
              "    padding: 0;\n",
              "    width: 32px;\n",
              "  }\n",
              "\n",
              "  .colab-df-quickchart:hover {\n",
              "    background-color: var(--hover-bg-color);\n",
              "    box-shadow: 0 1px 2px rgba(60, 64, 67, 0.3), 0 1px 3px 1px rgba(60, 64, 67, 0.15);\n",
              "    fill: var(--button-hover-fill-color);\n",
              "  }\n",
              "\n",
              "  .colab-df-quickchart-complete:disabled,\n",
              "  .colab-df-quickchart-complete:disabled:hover {\n",
              "    background-color: var(--disabled-bg-color);\n",
              "    fill: var(--disabled-fill-color);\n",
              "    box-shadow: none;\n",
              "  }\n",
              "\n",
              "  .colab-df-spinner {\n",
              "    border: 2px solid var(--fill-color);\n",
              "    border-color: transparent;\n",
              "    border-bottom-color: var(--fill-color);\n",
              "    animation:\n",
              "      spin 1s steps(1) infinite;\n",
              "  }\n",
              "\n",
              "  @keyframes spin {\n",
              "    0% {\n",
              "      border-color: transparent;\n",
              "      border-bottom-color: var(--fill-color);\n",
              "      border-left-color: var(--fill-color);\n",
              "    }\n",
              "    20% {\n",
              "      border-color: transparent;\n",
              "      border-left-color: var(--fill-color);\n",
              "      border-top-color: var(--fill-color);\n",
              "    }\n",
              "    30% {\n",
              "      border-color: transparent;\n",
              "      border-left-color: var(--fill-color);\n",
              "      border-top-color: var(--fill-color);\n",
              "      border-right-color: var(--fill-color);\n",
              "    }\n",
              "    40% {\n",
              "      border-color: transparent;\n",
              "      border-right-color: var(--fill-color);\n",
              "      border-top-color: var(--fill-color);\n",
              "    }\n",
              "    60% {\n",
              "      border-color: transparent;\n",
              "      border-right-color: var(--fill-color);\n",
              "    }\n",
              "    80% {\n",
              "      border-color: transparent;\n",
              "      border-right-color: var(--fill-color);\n",
              "      border-bottom-color: var(--fill-color);\n",
              "    }\n",
              "    90% {\n",
              "      border-color: transparent;\n",
              "      border-bottom-color: var(--fill-color);\n",
              "    }\n",
              "  }\n",
              "</style>\n",
              "\n",
              "  <script>\n",
              "    async function quickchart(key) {\n",
              "      const quickchartButtonEl =\n",
              "        document.querySelector('#' + key + ' button');\n",
              "      quickchartButtonEl.disabled = true;  // To prevent multiple clicks.\n",
              "      quickchartButtonEl.classList.add('colab-df-spinner');\n",
              "      try {\n",
              "        const charts = await google.colab.kernel.invokeFunction(\n",
              "            'suggestCharts', [key], {});\n",
              "      } catch (error) {\n",
              "        console.error('Error during call to suggestCharts:', error);\n",
              "      }\n",
              "      quickchartButtonEl.classList.remove('colab-df-spinner');\n",
              "      quickchartButtonEl.classList.add('colab-df-quickchart-complete');\n",
              "    }\n",
              "    (() => {\n",
              "      let quickchartButtonEl =\n",
              "        document.querySelector('#df-1dea2afc-eb41-4a7c-a9b9-8db4af253edd button');\n",
              "      quickchartButtonEl.style.display =\n",
              "        google.colab.kernel.accessAllowed ? 'block' : 'none';\n",
              "    })();\n",
              "  </script>\n",
              "</div>\n",
              "    </div>\n",
              "  </div>\n"
            ]
          },
          "metadata": {},
          "execution_count": 79
        }
      ]
    },
    {
      "cell_type": "code",
      "source": [
        "# Original_dataset:imbalance dataset"
      ],
      "metadata": {
        "id": "R84uVlnX1ql_"
      },
      "execution_count": null,
      "outputs": []
    },
    {
      "cell_type": "code",
      "source": [
        "df.groupby(\"default\").mean()"
      ],
      "metadata": {
        "colab": {
          "base_uri": "https://localhost:8080/",
          "height": 143
        },
        "id": "5GT4jWP81qpN",
        "outputId": "bbf91051-e6f5-424d-8585-f264a86d28d5"
      },
      "execution_count": null,
      "outputs": [
        {
          "output_type": "execute_result",
          "data": {
            "text/plain": [
              "             balance        income   student\n",
              "default                                     \n",
              "0         803.870400  33566.166610  0.291404\n",
              "1        1736.593536  32089.146847  0.381381"
            ],
            "text/html": [
              "\n",
              "  <div id=\"df-0d21a5df-97e7-4d19-85fb-c4e11ba6238e\" class=\"colab-df-container\">\n",
              "    <div>\n",
              "<style scoped>\n",
              "    .dataframe tbody tr th:only-of-type {\n",
              "        vertical-align: middle;\n",
              "    }\n",
              "\n",
              "    .dataframe tbody tr th {\n",
              "        vertical-align: top;\n",
              "    }\n",
              "\n",
              "    .dataframe thead th {\n",
              "        text-align: right;\n",
              "    }\n",
              "</style>\n",
              "<table border=\"1\" class=\"dataframe\">\n",
              "  <thead>\n",
              "    <tr style=\"text-align: right;\">\n",
              "      <th></th>\n",
              "      <th>balance</th>\n",
              "      <th>income</th>\n",
              "      <th>student</th>\n",
              "    </tr>\n",
              "    <tr>\n",
              "      <th>default</th>\n",
              "      <th></th>\n",
              "      <th></th>\n",
              "      <th></th>\n",
              "    </tr>\n",
              "  </thead>\n",
              "  <tbody>\n",
              "    <tr>\n",
              "      <th>0</th>\n",
              "      <td>803.870400</td>\n",
              "      <td>33566.166610</td>\n",
              "      <td>0.291404</td>\n",
              "    </tr>\n",
              "    <tr>\n",
              "      <th>1</th>\n",
              "      <td>1736.593536</td>\n",
              "      <td>32089.146847</td>\n",
              "      <td>0.381381</td>\n",
              "    </tr>\n",
              "  </tbody>\n",
              "</table>\n",
              "</div>\n",
              "    <div class=\"colab-df-buttons\">\n",
              "\n",
              "  <div class=\"colab-df-container\">\n",
              "    <button class=\"colab-df-convert\" onclick=\"convertToInteractive('df-0d21a5df-97e7-4d19-85fb-c4e11ba6238e')\"\n",
              "            title=\"Convert this dataframe to an interactive table.\"\n",
              "            style=\"display:none;\">\n",
              "\n",
              "  <svg xmlns=\"http://www.w3.org/2000/svg\" height=\"24px\" viewBox=\"0 -960 960 960\">\n",
              "    <path d=\"M120-120v-720h720v720H120Zm60-500h600v-160H180v160Zm220 220h160v-160H400v160Zm0 220h160v-160H400v160ZM180-400h160v-160H180v160Zm440 0h160v-160H620v160ZM180-180h160v-160H180v160Zm440 0h160v-160H620v160Z\"/>\n",
              "  </svg>\n",
              "    </button>\n",
              "\n",
              "  <style>\n",
              "    .colab-df-container {\n",
              "      display:flex;\n",
              "      gap: 12px;\n",
              "    }\n",
              "\n",
              "    .colab-df-convert {\n",
              "      background-color: #E8F0FE;\n",
              "      border: none;\n",
              "      border-radius: 50%;\n",
              "      cursor: pointer;\n",
              "      display: none;\n",
              "      fill: #1967D2;\n",
              "      height: 32px;\n",
              "      padding: 0 0 0 0;\n",
              "      width: 32px;\n",
              "    }\n",
              "\n",
              "    .colab-df-convert:hover {\n",
              "      background-color: #E2EBFA;\n",
              "      box-shadow: 0px 1px 2px rgba(60, 64, 67, 0.3), 0px 1px 3px 1px rgba(60, 64, 67, 0.15);\n",
              "      fill: #174EA6;\n",
              "    }\n",
              "\n",
              "    .colab-df-buttons div {\n",
              "      margin-bottom: 4px;\n",
              "    }\n",
              "\n",
              "    [theme=dark] .colab-df-convert {\n",
              "      background-color: #3B4455;\n",
              "      fill: #D2E3FC;\n",
              "    }\n",
              "\n",
              "    [theme=dark] .colab-df-convert:hover {\n",
              "      background-color: #434B5C;\n",
              "      box-shadow: 0px 1px 3px 1px rgba(0, 0, 0, 0.15);\n",
              "      filter: drop-shadow(0px 1px 2px rgba(0, 0, 0, 0.3));\n",
              "      fill: #FFFFFF;\n",
              "    }\n",
              "  </style>\n",
              "\n",
              "    <script>\n",
              "      const buttonEl =\n",
              "        document.querySelector('#df-0d21a5df-97e7-4d19-85fb-c4e11ba6238e button.colab-df-convert');\n",
              "      buttonEl.style.display =\n",
              "        google.colab.kernel.accessAllowed ? 'block' : 'none';\n",
              "\n",
              "      async function convertToInteractive(key) {\n",
              "        const element = document.querySelector('#df-0d21a5df-97e7-4d19-85fb-c4e11ba6238e');\n",
              "        const dataTable =\n",
              "          await google.colab.kernel.invokeFunction('convertToInteractive',\n",
              "                                                    [key], {});\n",
              "        if (!dataTable) return;\n",
              "\n",
              "        const docLinkHtml = 'Like what you see? Visit the ' +\n",
              "          '<a target=\"_blank\" href=https://colab.research.google.com/notebooks/data_table.ipynb>data table notebook</a>'\n",
              "          + ' to learn more about interactive tables.';\n",
              "        element.innerHTML = '';\n",
              "        dataTable['output_type'] = 'display_data';\n",
              "        await google.colab.output.renderOutput(dataTable, element);\n",
              "        const docLink = document.createElement('div');\n",
              "        docLink.innerHTML = docLinkHtml;\n",
              "        element.appendChild(docLink);\n",
              "      }\n",
              "    </script>\n",
              "  </div>\n",
              "\n",
              "\n",
              "<div id=\"df-bcc4db05-8782-4746-ad2b-44e517be42a0\">\n",
              "  <button class=\"colab-df-quickchart\" onclick=\"quickchart('df-bcc4db05-8782-4746-ad2b-44e517be42a0')\"\n",
              "            title=\"Suggest charts.\"\n",
              "            style=\"display:none;\">\n",
              "\n",
              "<svg xmlns=\"http://www.w3.org/2000/svg\" height=\"24px\"viewBox=\"0 0 24 24\"\n",
              "     width=\"24px\">\n",
              "    <g>\n",
              "        <path d=\"M19 3H5c-1.1 0-2 .9-2 2v14c0 1.1.9 2 2 2h14c1.1 0 2-.9 2-2V5c0-1.1-.9-2-2-2zM9 17H7v-7h2v7zm4 0h-2V7h2v10zm4 0h-2v-4h2v4z\"/>\n",
              "    </g>\n",
              "</svg>\n",
              "  </button>\n",
              "\n",
              "<style>\n",
              "  .colab-df-quickchart {\n",
              "      --bg-color: #E8F0FE;\n",
              "      --fill-color: #1967D2;\n",
              "      --hover-bg-color: #E2EBFA;\n",
              "      --hover-fill-color: #174EA6;\n",
              "      --disabled-fill-color: #AAA;\n",
              "      --disabled-bg-color: #DDD;\n",
              "  }\n",
              "\n",
              "  [theme=dark] .colab-df-quickchart {\n",
              "      --bg-color: #3B4455;\n",
              "      --fill-color: #D2E3FC;\n",
              "      --hover-bg-color: #434B5C;\n",
              "      --hover-fill-color: #FFFFFF;\n",
              "      --disabled-bg-color: #3B4455;\n",
              "      --disabled-fill-color: #666;\n",
              "  }\n",
              "\n",
              "  .colab-df-quickchart {\n",
              "    background-color: var(--bg-color);\n",
              "    border: none;\n",
              "    border-radius: 50%;\n",
              "    cursor: pointer;\n",
              "    display: none;\n",
              "    fill: var(--fill-color);\n",
              "    height: 32px;\n",
              "    padding: 0;\n",
              "    width: 32px;\n",
              "  }\n",
              "\n",
              "  .colab-df-quickchart:hover {\n",
              "    background-color: var(--hover-bg-color);\n",
              "    box-shadow: 0 1px 2px rgba(60, 64, 67, 0.3), 0 1px 3px 1px rgba(60, 64, 67, 0.15);\n",
              "    fill: var(--button-hover-fill-color);\n",
              "  }\n",
              "\n",
              "  .colab-df-quickchart-complete:disabled,\n",
              "  .colab-df-quickchart-complete:disabled:hover {\n",
              "    background-color: var(--disabled-bg-color);\n",
              "    fill: var(--disabled-fill-color);\n",
              "    box-shadow: none;\n",
              "  }\n",
              "\n",
              "  .colab-df-spinner {\n",
              "    border: 2px solid var(--fill-color);\n",
              "    border-color: transparent;\n",
              "    border-bottom-color: var(--fill-color);\n",
              "    animation:\n",
              "      spin 1s steps(1) infinite;\n",
              "  }\n",
              "\n",
              "  @keyframes spin {\n",
              "    0% {\n",
              "      border-color: transparent;\n",
              "      border-bottom-color: var(--fill-color);\n",
              "      border-left-color: var(--fill-color);\n",
              "    }\n",
              "    20% {\n",
              "      border-color: transparent;\n",
              "      border-left-color: var(--fill-color);\n",
              "      border-top-color: var(--fill-color);\n",
              "    }\n",
              "    30% {\n",
              "      border-color: transparent;\n",
              "      border-left-color: var(--fill-color);\n",
              "      border-top-color: var(--fill-color);\n",
              "      border-right-color: var(--fill-color);\n",
              "    }\n",
              "    40% {\n",
              "      border-color: transparent;\n",
              "      border-right-color: var(--fill-color);\n",
              "      border-top-color: var(--fill-color);\n",
              "    }\n",
              "    60% {\n",
              "      border-color: transparent;\n",
              "      border-right-color: var(--fill-color);\n",
              "    }\n",
              "    80% {\n",
              "      border-color: transparent;\n",
              "      border-right-color: var(--fill-color);\n",
              "      border-bottom-color: var(--fill-color);\n",
              "    }\n",
              "    90% {\n",
              "      border-color: transparent;\n",
              "      border-bottom-color: var(--fill-color);\n",
              "    }\n",
              "  }\n",
              "</style>\n",
              "\n",
              "  <script>\n",
              "    async function quickchart(key) {\n",
              "      const quickchartButtonEl =\n",
              "        document.querySelector('#' + key + ' button');\n",
              "      quickchartButtonEl.disabled = true;  // To prevent multiple clicks.\n",
              "      quickchartButtonEl.classList.add('colab-df-spinner');\n",
              "      try {\n",
              "        const charts = await google.colab.kernel.invokeFunction(\n",
              "            'suggestCharts', [key], {});\n",
              "      } catch (error) {\n",
              "        console.error('Error during call to suggestCharts:', error);\n",
              "      }\n",
              "      quickchartButtonEl.classList.remove('colab-df-spinner');\n",
              "      quickchartButtonEl.classList.add('colab-df-quickchart-complete');\n",
              "    }\n",
              "    (() => {\n",
              "      let quickchartButtonEl =\n",
              "        document.querySelector('#df-bcc4db05-8782-4746-ad2b-44e517be42a0 button');\n",
              "      quickchartButtonEl.style.display =\n",
              "        google.colab.kernel.accessAllowed ? 'block' : 'none';\n",
              "    })();\n",
              "  </script>\n",
              "</div>\n",
              "    </div>\n",
              "  </div>\n"
            ]
          },
          "metadata": {},
          "execution_count": 81
        }
      ]
    },
    {
      "cell_type": "code",
      "source": [
        "# Model----buiding using logistic Regression algorithm for\"Probabilty at Default\""
      ],
      "metadata": {
        "id": "FEztV0m01qr-"
      },
      "execution_count": null,
      "outputs": []
    },
    {
      "cell_type": "code",
      "source": [
        "# The equation of the Logistic Regression by which we predict the corresponding probability and then go on predict a discreate target variable is y=1/(1+e^-z)"
      ],
      "metadata": {
        "id": "B_GkRTTv1quk"
      },
      "execution_count": null,
      "outputs": []
    },
    {
      "cell_type": "code",
      "source": [
        "from sklearn.linear_model import LogisticRegression"
      ],
      "metadata": {
        "id": "evjMdXRt1qxl"
      },
      "execution_count": null,
      "outputs": []
    },
    {
      "cell_type": "code",
      "source": [
        "# Now importing statsmodels modules"
      ],
      "metadata": {
        "id": "vUyHU8WJ1q0F"
      },
      "execution_count": null,
      "outputs": []
    },
    {
      "cell_type": "code",
      "source": [
        "import statsmodels.formula.api as SM"
      ],
      "metadata": {
        "id": "QnsD6aBoy3Ql"
      },
      "execution_count": null,
      "outputs": []
    },
    {
      "cell_type": "code",
      "source": [
        "# Creating Logistic Regression equation and sorting it in F_1\n",
        "\n",
        "\n",
        "#### model =SM.Logit(formula='Dep_Variable~ Summation(Independent variable:k)',data=DataFrame containing the required values).fit()\n",
        "\n"
      ],
      "metadata": {
        "id": "TFh6FRIgy3Uh"
      },
      "execution_count": null,
      "outputs": []
    },
    {
      "cell_type": "code",
      "source": [
        "train=pd.concat([x_train,y_train],axis=1)\n",
        "train_smote=pd.concat([x_res,y_res],axis=1)\n",
        "test=pd.concat([x_test,y_test],axis=1)\n"
      ],
      "metadata": {
        "id": "qbCMtq9O7-ys"
      },
      "execution_count": null,
      "outputs": []
    },
    {
      "cell_type": "code",
      "source": [
        "print(train.shape)"
      ],
      "metadata": {
        "colab": {
          "base_uri": "https://localhost:8080/"
        },
        "id": "v0OSZ90T8t0X",
        "outputId": "62e31d8d-cf58-44fc-8ed6-98f3c2aea915"
      },
      "execution_count": null,
      "outputs": [
        {
          "output_type": "stream",
          "name": "stdout",
          "text": [
            "(8000, 4)\n"
          ]
        }
      ]
    },
    {
      "cell_type": "code",
      "source": [
        "print(train_smote.shape)"
      ],
      "metadata": {
        "colab": {
          "base_uri": "https://localhost:8080/"
        },
        "id": "yrYi1lqp8uE6",
        "outputId": "43f282c1-7248-4753-c7ae-d974070e2b8a"
      },
      "execution_count": null,
      "outputs": [
        {
          "output_type": "stream",
          "name": "stdout",
          "text": [
            "(13534, 4)\n"
          ]
        }
      ]
    },
    {
      "cell_type": "code",
      "source": [
        "print(test.shape)"
      ],
      "metadata": {
        "colab": {
          "base_uri": "https://localhost:8080/"
        },
        "id": "YvK3O2ql8uH8",
        "outputId": "391a1dea-1c57-4d0d-9b45-c98e05881b8f"
      },
      "execution_count": null,
      "outputs": [
        {
          "output_type": "stream",
          "name": "stdout",
          "text": [
            "(2000, 4)\n"
          ]
        }
      ]
    },
    {
      "cell_type": "code",
      "source": [
        "df.columns"
      ],
      "metadata": {
        "colab": {
          "base_uri": "https://localhost:8080/"
        },
        "id": "Diqk8WtUy3Zr",
        "outputId": "e1f0be69-b269-4f16-ad45-a0c7b63aa9f1"
      },
      "execution_count": null,
      "outputs": [
        {
          "output_type": "execute_result",
          "data": {
            "text/plain": [
              "Index(['balance', 'income', 'default', 'student'], dtype='object')"
            ]
          },
          "metadata": {},
          "execution_count": 92
        }
      ]
    },
    {
      "cell_type": "code",
      "source": [
        "f_1=\"default ~ balance+ income + student\""
      ],
      "metadata": {
        "id": "d0YfhTOyy3ek"
      },
      "execution_count": null,
      "outputs": []
    },
    {
      "cell_type": "code",
      "source": [
        "# Fitting logistic regression model on imbalance dataset"
      ],
      "metadata": {
        "id": "_EGpRNVuy3hh"
      },
      "execution_count": null,
      "outputs": []
    },
    {
      "cell_type": "code",
      "source": [
        "model1 =SM.logit(formula=f_1,data=train).fit()"
      ],
      "metadata": {
        "colab": {
          "base_uri": "https://localhost:8080/"
        },
        "id": "NITNT7Fl4UnT",
        "outputId": "04a4930f-1fb1-42ea-d405-cc1a0ef2f1c5"
      },
      "execution_count": null,
      "outputs": [
        {
          "output_type": "stream",
          "name": "stdout",
          "text": [
            "Optimization terminated successfully.\n",
            "         Current function value: 0.079890\n",
            "         Iterations 10\n"
          ]
        }
      ]
    },
    {
      "cell_type": "code",
      "source": [
        "model1.summary()"
      ],
      "metadata": {
        "colab": {
          "base_uri": "https://localhost:8080/",
          "height": 381
        },
        "id": "NwyCutJ19ZHg",
        "outputId": "eee99a27-2ec3-4ec9-cd80-057304e01b4a"
      },
      "execution_count": null,
      "outputs": [
        {
          "output_type": "execute_result",
          "data": {
            "text/plain": [
              "<class 'statsmodels.iolib.summary.Summary'>\n",
              "\"\"\"\n",
              "                           Logit Regression Results                           \n",
              "==============================================================================\n",
              "Dep. Variable:                default   No. Observations:                 8000\n",
              "Model:                          Logit   Df Residuals:                     7996\n",
              "Method:                           MLE   Df Model:                            3\n",
              "Date:                Sat, 09 Sep 2023   Pseudo R-squ.:                  0.4523\n",
              "Time:                        10:54:54   Log-Likelihood:                -639.12\n",
              "converged:                       True   LL-Null:                       -1166.9\n",
              "Covariance Type:            nonrobust   LLR p-value:                1.574e-228\n",
              "==============================================================================\n",
              "                 coef    std err          z      P>|z|      [0.025      0.975]\n",
              "------------------------------------------------------------------------------\n",
              "Intercept    -11.1821      0.558    -20.039      0.000     -12.276     -10.088\n",
              "balance        0.0057      0.000     22.215      0.000       0.005       0.006\n",
              "income      1.146e-05   9.15e-06      1.253      0.210   -6.47e-06    2.94e-05\n",
              "student       -0.4662      0.266     -1.754      0.079      -0.987       0.055\n",
              "==============================================================================\n",
              "\n",
              "Possibly complete quasi-separation: A fraction 0.14 of observations can be\n",
              "perfectly predicted. This might indicate that there is complete\n",
              "quasi-separation. In this case some parameters will not be identified.\n",
              "\"\"\""
            ],
            "text/html": [
              "<table class=\"simpletable\">\n",
              "<caption>Logit Regression Results</caption>\n",
              "<tr>\n",
              "  <th>Dep. Variable:</th>        <td>default</td>     <th>  No. Observations:  </th>   <td>  8000</td>  \n",
              "</tr>\n",
              "<tr>\n",
              "  <th>Model:</th>                 <td>Logit</td>      <th>  Df Residuals:      </th>   <td>  7996</td>  \n",
              "</tr>\n",
              "<tr>\n",
              "  <th>Method:</th>                 <td>MLE</td>       <th>  Df Model:          </th>   <td>     3</td>  \n",
              "</tr>\n",
              "<tr>\n",
              "  <th>Date:</th>            <td>Sat, 09 Sep 2023</td> <th>  Pseudo R-squ.:     </th>   <td>0.4523</td>  \n",
              "</tr>\n",
              "<tr>\n",
              "  <th>Time:</th>                <td>10:54:54</td>     <th>  Log-Likelihood:    </th>  <td> -639.12</td> \n",
              "</tr>\n",
              "<tr>\n",
              "  <th>converged:</th>             <td>True</td>       <th>  LL-Null:           </th>  <td> -1166.9</td> \n",
              "</tr>\n",
              "<tr>\n",
              "  <th>Covariance Type:</th>     <td>nonrobust</td>    <th>  LLR p-value:       </th> <td>1.574e-228</td>\n",
              "</tr>\n",
              "</table>\n",
              "<table class=\"simpletable\">\n",
              "<tr>\n",
              "      <td></td>         <th>coef</th>     <th>std err</th>      <th>z</th>      <th>P>|z|</th>  <th>[0.025</th>    <th>0.975]</th>  \n",
              "</tr>\n",
              "<tr>\n",
              "  <th>Intercept</th> <td>  -11.1821</td> <td>    0.558</td> <td>  -20.039</td> <td> 0.000</td> <td>  -12.276</td> <td>  -10.088</td>\n",
              "</tr>\n",
              "<tr>\n",
              "  <th>balance</th>   <td>    0.0057</td> <td>    0.000</td> <td>   22.215</td> <td> 0.000</td> <td>    0.005</td> <td>    0.006</td>\n",
              "</tr>\n",
              "<tr>\n",
              "  <th>income</th>    <td> 1.146e-05</td> <td> 9.15e-06</td> <td>    1.253</td> <td> 0.210</td> <td>-6.47e-06</td> <td> 2.94e-05</td>\n",
              "</tr>\n",
              "<tr>\n",
              "  <th>student</th>   <td>   -0.4662</td> <td>    0.266</td> <td>   -1.754</td> <td> 0.079</td> <td>   -0.987</td> <td>    0.055</td>\n",
              "</tr>\n",
              "</table><br/><br/>Possibly complete quasi-separation: A fraction 0.14 of observations can be<br/>perfectly predicted. This might indicate that there is complete<br/>quasi-separation. In this case some parameters will not be identified."
            ],
            "text/latex": "\\begin{center}\n\\begin{tabular}{lclc}\n\\toprule\n\\textbf{Dep. Variable:}   &     default      & \\textbf{  No. Observations:  } &     8000    \\\\\n\\textbf{Model:}           &      Logit       & \\textbf{  Df Residuals:      } &     7996    \\\\\n\\textbf{Method:}          &       MLE        & \\textbf{  Df Model:          } &        3    \\\\\n\\textbf{Date:}            & Sat, 09 Sep 2023 & \\textbf{  Pseudo R-squ.:     } &   0.4523    \\\\\n\\textbf{Time:}            &     10:54:54     & \\textbf{  Log-Likelihood:    } &   -639.12   \\\\\n\\textbf{converged:}       &       True       & \\textbf{  LL-Null:           } &   -1166.9   \\\\\n\\textbf{Covariance Type:} &    nonrobust     & \\textbf{  LLR p-value:       } & 1.574e-228  \\\\\n\\bottomrule\n\\end{tabular}\n\\begin{tabular}{lcccccc}\n                   & \\textbf{coef} & \\textbf{std err} & \\textbf{z} & \\textbf{P$> |$z$|$} & \\textbf{[0.025} & \\textbf{0.975]}  \\\\\n\\midrule\n\\textbf{Intercept} &     -11.1821  &        0.558     &   -20.039  &         0.000        &      -12.276    &      -10.088     \\\\\n\\textbf{balance}   &       0.0057  &        0.000     &    22.215  &         0.000        &        0.005    &        0.006     \\\\\n\\textbf{income}    &    1.146e-05  &     9.15e-06     &     1.253  &         0.210        &    -6.47e-06    &     2.94e-05     \\\\\n\\textbf{student}   &      -0.4662  &        0.266     &    -1.754  &         0.079        &       -0.987    &        0.055     \\\\\n\\bottomrule\n\\end{tabular}\n%\\caption{Logit Regression Results}\n\\end{center}\n\nPossibly complete quasi-separation: A fraction 0.14 of observations can be \\newline\n perfectly predicted. This might indicate that there is complete \\newline\n quasi-separation. In this case some parameters will not be identified."
          },
          "metadata": {},
          "execution_count": 96
        }
      ]
    },
    {
      "cell_type": "code",
      "source": [
        "# validating the model on train set"
      ],
      "metadata": {
        "id": "7yCEREtj9dXz"
      },
      "execution_count": null,
      "outputs": []
    },
    {
      "cell_type": "code",
      "source": [
        "y_pred_train=np.where(model1.predict(train)>0.5,1,0)"
      ],
      "metadata": {
        "id": "RJgjRZJq-D5B"
      },
      "execution_count": null,
      "outputs": []
    },
    {
      "cell_type": "code",
      "source": [
        "from sklearn.metrics import confusion_matrix,classification_report,accuracy_score"
      ],
      "metadata": {
        "id": "F1V260qn-RQC"
      },
      "execution_count": null,
      "outputs": []
    },
    {
      "cell_type": "code",
      "source": [
        "confusion_matrix(y_train,y_pred_train)"
      ],
      "metadata": {
        "colab": {
          "base_uri": "https://localhost:8080/"
        },
        "id": "VZ3OOrB3-f7h",
        "outputId": "bc469fe8-0aa6-49a3-ce55-867abfecb2c6"
      },
      "execution_count": null,
      "outputs": [
        {
          "output_type": "execute_result",
          "data": {
            "text/plain": [
              "array([[7704,   30],\n",
              "       [ 182,   84]])"
            ]
          },
          "metadata": {},
          "execution_count": 100
        }
      ]
    },
    {
      "cell_type": "code",
      "source": [
        "print(classification_report(y_train,y_pred_train))"
      ],
      "metadata": {
        "colab": {
          "base_uri": "https://localhost:8080/"
        },
        "id": "UqPDu9Fv-pQD",
        "outputId": "30756449-6de5-46c4-b8b6-8339b220c108"
      },
      "execution_count": null,
      "outputs": [
        {
          "output_type": "stream",
          "name": "stdout",
          "text": [
            "              precision    recall  f1-score   support\n",
            "\n",
            "           0       0.98      1.00      0.99      7734\n",
            "           1       0.74      0.32      0.44       266\n",
            "\n",
            "    accuracy                           0.97      8000\n",
            "   macro avg       0.86      0.66      0.71      8000\n",
            "weighted avg       0.97      0.97      0.97      8000\n",
            "\n"
          ]
        }
      ]
    },
    {
      "cell_type": "code",
      "source": [
        "# validating the model on test set\n",
        "y_pred_test=np.where(model1.predict(test)>0.5,1,0)"
      ],
      "metadata": {
        "id": "g98hDfEd-vGv"
      },
      "execution_count": null,
      "outputs": []
    },
    {
      "cell_type": "code",
      "source": [
        "confusion_matrix(y_test,y_pred_test)"
      ],
      "metadata": {
        "colab": {
          "base_uri": "https://localhost:8080/"
        },
        "id": "WJjCe8xN_UJP",
        "outputId": "0007d219-b736-4fd5-8f65-ba818c976515"
      },
      "execution_count": null,
      "outputs": [
        {
          "output_type": "execute_result",
          "data": {
            "text/plain": [
              "array([[1921,   12],\n",
              "       [  43,   24]])"
            ]
          },
          "metadata": {},
          "execution_count": 103
        }
      ]
    },
    {
      "cell_type": "code",
      "source": [
        "print(classification_report(y_test,y_pred_test))\n"
      ],
      "metadata": {
        "colab": {
          "base_uri": "https://localhost:8080/"
        },
        "id": "aEbRklKz_YWg",
        "outputId": "27fb22a6-1e49-4650-e114-adf473764fe4"
      },
      "execution_count": null,
      "outputs": [
        {
          "output_type": "stream",
          "name": "stdout",
          "text": [
            "              precision    recall  f1-score   support\n",
            "\n",
            "           0       0.98      0.99      0.99      1933\n",
            "           1       0.67      0.36      0.47        67\n",
            "\n",
            "    accuracy                           0.97      2000\n",
            "   macro avg       0.82      0.68      0.73      2000\n",
            "weighted avg       0.97      0.97      0.97      2000\n",
            "\n"
          ]
        }
      ]
    },
    {
      "cell_type": "code",
      "source": [
        "print(accuracy_score(y_test,y_pred_test))"
      ],
      "metadata": {
        "colab": {
          "base_uri": "https://localhost:8080/"
        },
        "id": "UvKsWJPEE1nm",
        "outputId": "867a3666-bbd9-4d97-cf00-abb82e56ebfc"
      },
      "execution_count": null,
      "outputs": [
        {
          "output_type": "stream",
          "name": "stdout",
          "text": [
            "0.9725\n"
          ]
        }
      ]
    },
    {
      "cell_type": "markdown",
      "source": [
        "**Model is not overfitting but the recall value is very poor basis recall we can say that there is high bias**"
      ],
      "metadata": {
        "id": "f2HElCPh_gVw"
      }
    },
    {
      "cell_type": "markdown",
      "source": [
        "# **Please note accuracy is not good measurement when we have imbalance dataset or probability values**"
      ],
      "metadata": {
        "id": "WQ90VI2nEmmt"
      }
    },
    {
      "cell_type": "code",
      "source": [
        "# Fitting the logistic regression model on balanced data"
      ],
      "metadata": {
        "id": "grbV1dyc_dm2"
      },
      "execution_count": null,
      "outputs": []
    },
    {
      "cell_type": "code",
      "source": [
        "model_2=SM.logit(formula=f_1,data=train_smote).fit()"
      ],
      "metadata": {
        "colab": {
          "base_uri": "https://localhost:8080/"
        },
        "id": "t3nvXiYIC0yI",
        "outputId": "ef732292-108d-42a3-a994-28521696a7f6"
      },
      "execution_count": null,
      "outputs": [
        {
          "output_type": "stream",
          "name": "stdout",
          "text": [
            "Optimization terminated successfully.\n",
            "         Current function value: 0.247056\n",
            "         Iterations 8\n"
          ]
        }
      ]
    },
    {
      "cell_type": "code",
      "source": [
        "model_2.summary()"
      ],
      "metadata": {
        "colab": {
          "base_uri": "https://localhost:8080/",
          "height": 295
        },
        "id": "aDwhzmM2C001",
        "outputId": "8316ad36-a238-4fd8-c47a-07c25fe579bf"
      },
      "execution_count": null,
      "outputs": [
        {
          "output_type": "execute_result",
          "data": {
            "text/plain": [
              "<class 'statsmodels.iolib.summary.Summary'>\n",
              "\"\"\"\n",
              "                           Logit Regression Results                           \n",
              "==============================================================================\n",
              "Dep. Variable:                default   No. Observations:                13534\n",
              "Model:                          Logit   Df Residuals:                    13530\n",
              "Method:                           MLE   Df Model:                            3\n",
              "Date:                Sat, 09 Sep 2023   Pseudo R-squ.:                  0.6382\n",
              "Time:                        10:54:55   Log-Likelihood:                -3343.7\n",
              "converged:                       True   LL-Null:                       -9242.4\n",
              "Covariance Type:            nonrobust   LLR p-value:                     0.000\n",
              "==============================================================================\n",
              "                 coef    std err          z      P>|z|      [0.025      0.975]\n",
              "------------------------------------------------------------------------------\n",
              "Intercept     -9.0595      0.220    -41.188      0.000      -9.491      -8.628\n",
              "balance        0.0069      0.000     55.953      0.000       0.007       0.007\n",
              "income     -4.826e-06   3.55e-06     -1.360      0.174   -1.18e-05    2.13e-06\n",
              "student       -1.3061      0.107    -12.217      0.000      -1.516      -1.097\n",
              "==============================================================================\n",
              "\"\"\""
            ],
            "text/html": [
              "<table class=\"simpletable\">\n",
              "<caption>Logit Regression Results</caption>\n",
              "<tr>\n",
              "  <th>Dep. Variable:</th>        <td>default</td>     <th>  No. Observations:  </th>  <td> 13534</td> \n",
              "</tr>\n",
              "<tr>\n",
              "  <th>Model:</th>                 <td>Logit</td>      <th>  Df Residuals:      </th>  <td> 13530</td> \n",
              "</tr>\n",
              "<tr>\n",
              "  <th>Method:</th>                 <td>MLE</td>       <th>  Df Model:          </th>  <td>     3</td> \n",
              "</tr>\n",
              "<tr>\n",
              "  <th>Date:</th>            <td>Sat, 09 Sep 2023</td> <th>  Pseudo R-squ.:     </th>  <td>0.6382</td> \n",
              "</tr>\n",
              "<tr>\n",
              "  <th>Time:</th>                <td>10:54:55</td>     <th>  Log-Likelihood:    </th> <td> -3343.7</td>\n",
              "</tr>\n",
              "<tr>\n",
              "  <th>converged:</th>             <td>True</td>       <th>  LL-Null:           </th> <td> -9242.4</td>\n",
              "</tr>\n",
              "<tr>\n",
              "  <th>Covariance Type:</th>     <td>nonrobust</td>    <th>  LLR p-value:       </th>  <td> 0.000</td> \n",
              "</tr>\n",
              "</table>\n",
              "<table class=\"simpletable\">\n",
              "<tr>\n",
              "      <td></td>         <th>coef</th>     <th>std err</th>      <th>z</th>      <th>P>|z|</th>  <th>[0.025</th>    <th>0.975]</th>  \n",
              "</tr>\n",
              "<tr>\n",
              "  <th>Intercept</th> <td>   -9.0595</td> <td>    0.220</td> <td>  -41.188</td> <td> 0.000</td> <td>   -9.491</td> <td>   -8.628</td>\n",
              "</tr>\n",
              "<tr>\n",
              "  <th>balance</th>   <td>    0.0069</td> <td>    0.000</td> <td>   55.953</td> <td> 0.000</td> <td>    0.007</td> <td>    0.007</td>\n",
              "</tr>\n",
              "<tr>\n",
              "  <th>income</th>    <td>-4.826e-06</td> <td> 3.55e-06</td> <td>   -1.360</td> <td> 0.174</td> <td>-1.18e-05</td> <td> 2.13e-06</td>\n",
              "</tr>\n",
              "<tr>\n",
              "  <th>student</th>   <td>   -1.3061</td> <td>    0.107</td> <td>  -12.217</td> <td> 0.000</td> <td>   -1.516</td> <td>   -1.097</td>\n",
              "</tr>\n",
              "</table>"
            ],
            "text/latex": "\\begin{center}\n\\begin{tabular}{lclc}\n\\toprule\n\\textbf{Dep. Variable:}   &     default      & \\textbf{  No. Observations:  } &    13534    \\\\\n\\textbf{Model:}           &      Logit       & \\textbf{  Df Residuals:      } &    13530    \\\\\n\\textbf{Method:}          &       MLE        & \\textbf{  Df Model:          } &        3    \\\\\n\\textbf{Date:}            & Sat, 09 Sep 2023 & \\textbf{  Pseudo R-squ.:     } &   0.6382    \\\\\n\\textbf{Time:}            &     10:54:55     & \\textbf{  Log-Likelihood:    } &   -3343.7   \\\\\n\\textbf{converged:}       &       True       & \\textbf{  LL-Null:           } &   -9242.4   \\\\\n\\textbf{Covariance Type:} &    nonrobust     & \\textbf{  LLR p-value:       } &    0.000    \\\\\n\\bottomrule\n\\end{tabular}\n\\begin{tabular}{lcccccc}\n                   & \\textbf{coef} & \\textbf{std err} & \\textbf{z} & \\textbf{P$> |$z$|$} & \\textbf{[0.025} & \\textbf{0.975]}  \\\\\n\\midrule\n\\textbf{Intercept} &      -9.0595  &        0.220     &   -41.188  &         0.000        &       -9.491    &       -8.628     \\\\\n\\textbf{balance}   &       0.0069  &        0.000     &    55.953  &         0.000        &        0.007    &        0.007     \\\\\n\\textbf{income}    &   -4.826e-06  &     3.55e-06     &    -1.360  &         0.174        &    -1.18e-05    &     2.13e-06     \\\\\n\\textbf{student}   &      -1.3061  &        0.107     &   -12.217  &         0.000        &       -1.516    &       -1.097     \\\\\n\\bottomrule\n\\end{tabular}\n%\\caption{Logit Regression Results}\n\\end{center}"
          },
          "metadata": {},
          "execution_count": 108
        }
      ]
    },
    {
      "cell_type": "code",
      "source": [
        "y_pred_train_smote=np.where(model_2.predict(train_smote)>0.5,1,0)"
      ],
      "metadata": {
        "id": "YADIjN9mC03i"
      },
      "execution_count": null,
      "outputs": []
    },
    {
      "cell_type": "code",
      "source": [
        "confusion_matrix(y_res,y_pred_train_smote)"
      ],
      "metadata": {
        "colab": {
          "base_uri": "https://localhost:8080/"
        },
        "id": "xL_DS-jJC06p",
        "outputId": "6b584bba-fd08-40d1-c2ce-6fe939849858"
      },
      "execution_count": null,
      "outputs": [
        {
          "output_type": "execute_result",
          "data": {
            "text/plain": [
              "array([[6947,  787],\n",
              "       [ 655, 5145]])"
            ]
          },
          "metadata": {},
          "execution_count": 110
        }
      ]
    },
    {
      "cell_type": "code",
      "source": [
        "print(classification_report(y_res,y_pred_train_smote))"
      ],
      "metadata": {
        "colab": {
          "base_uri": "https://localhost:8080/"
        },
        "id": "668xKdZHDqhU",
        "outputId": "8aea5761-b4d7-4624-f629-2eee225d6c9d"
      },
      "execution_count": null,
      "outputs": [
        {
          "output_type": "stream",
          "name": "stdout",
          "text": [
            "              precision    recall  f1-score   support\n",
            "\n",
            "           0       0.91      0.90      0.91      7734\n",
            "           1       0.87      0.89      0.88      5800\n",
            "\n",
            "    accuracy                           0.89     13534\n",
            "   macro avg       0.89      0.89      0.89     13534\n",
            "weighted avg       0.89      0.89      0.89     13534\n",
            "\n"
          ]
        }
      ]
    },
    {
      "cell_type": "code",
      "source": [
        "print(accuracy_score(y_res,y_pred_train_smote))"
      ],
      "metadata": {
        "colab": {
          "base_uri": "https://localhost:8080/"
        },
        "id": "08_n2fUoD8wK",
        "outputId": "ff76728a-34fc-462b-fe8b-c6de63993565"
      },
      "execution_count": null,
      "outputs": [
        {
          "output_type": "stream",
          "name": "stdout",
          "text": [
            "0.8934535244569233\n"
          ]
        }
      ]
    },
    {
      "cell_type": "code",
      "source": [
        "# Validating on test data"
      ],
      "metadata": {
        "id": "5pyc0WgoEK_8"
      },
      "execution_count": null,
      "outputs": []
    },
    {
      "cell_type": "code",
      "source": [
        "y_pred_test_smote=np.where(model_2.predict(test)>0.5,1,0)"
      ],
      "metadata": {
        "id": "vbxL2kytE-on"
      },
      "execution_count": null,
      "outputs": []
    },
    {
      "cell_type": "code",
      "source": [
        "confusion_matrix(y_test,y_pred_test_smote)"
      ],
      "metadata": {
        "colab": {
          "base_uri": "https://localhost:8080/"
        },
        "id": "wJD3cZf-FLyT",
        "outputId": "ec640f7b-e0cc-4375-eb23-1d2cef5554e2"
      },
      "execution_count": null,
      "outputs": [
        {
          "output_type": "execute_result",
          "data": {
            "text/plain": [
              "array([[1739,  194],\n",
              "       [   7,   60]])"
            ]
          },
          "metadata": {},
          "execution_count": 115
        }
      ]
    },
    {
      "cell_type": "code",
      "source": [
        "print(classification_report(y_test,y_pred_test_smote))"
      ],
      "metadata": {
        "colab": {
          "base_uri": "https://localhost:8080/"
        },
        "id": "Jxa2NgfwFV2k",
        "outputId": "e833d33a-0b55-4a33-b6e6-5b323ae9d81b"
      },
      "execution_count": null,
      "outputs": [
        {
          "output_type": "stream",
          "name": "stdout",
          "text": [
            "              precision    recall  f1-score   support\n",
            "\n",
            "           0       1.00      0.90      0.95      1933\n",
            "           1       0.24      0.90      0.37        67\n",
            "\n",
            "    accuracy                           0.90      2000\n",
            "   macro avg       0.62      0.90      0.66      2000\n",
            "weighted avg       0.97      0.90      0.93      2000\n",
            "\n"
          ]
        }
      ]
    },
    {
      "cell_type": "code",
      "source": [
        "print(accuracy_score(y_test,y_pred_test_smote))"
      ],
      "metadata": {
        "colab": {
          "base_uri": "https://localhost:8080/"
        },
        "id": "WgDIHhfVFb3D",
        "outputId": "84fa26a7-3fe4-469d-d037-3ae410c78cae"
      },
      "execution_count": null,
      "outputs": [
        {
          "output_type": "stream",
          "name": "stdout",
          "text": [
            "0.8995\n"
          ]
        }
      ]
    },
    {
      "cell_type": "markdown",
      "source": [
        "## we can see that we get better recall value after balancing the data hence we prefer to go with model_2"
      ],
      "metadata": {
        "id": "8HMEOK4EgWPV"
      }
    },
    {
      "cell_type": "markdown",
      "source": [
        "## **Conclusion: Financial Risk Analytics Using Logistic Regression for Probability of Default Calculation**\n",
        "\n",
        "This comprehensive report delves into the application of logistic regression as a critical machine learning algorithm for estimating the probability of default in the context of financial risk analytics. Throughout our investigation, we have examined various aspects, methodologies, and outcomes to highlight the significance of logistic regression in accurately assessing and managing financial risks. Below, we provide a detailed summary of our key findings and insights:\n",
        "\n",
        "**1. Accuracy and Predictive Capability:**\n",
        "   - Logistic regression has proven to be a highly effective tool for estimating the probability of default. By modeling the likelihood of a specific event occurring (in this case, loan default), it empowers financial institutions to make informed lending decisions and manage risk with greater precision.\n",
        "\n",
        "**2. Interpretability and Transparency:**\n",
        "   - Logistic regression's interpretability is a valuable asset in the financial sector. The coefficients associated with each feature provide a transparent view of the factors influencing the probability of default, which is essential for explaining risk assessments to stakeholders, regulators, and customers.\n",
        "\n",
        "**3. Feature Selection and Engineering:**\n",
        "   - Optimal feature selection and engineering are critical for enhancing the performance of logistic regression models. Identifying relevant variables, addressing missing data, and applying data preprocessing techniques contribute to model robustness and accuracy.\n",
        "\n",
        "**4. Model Evaluation:**\n",
        "   - A thorough model evaluation, using appropriate metrics such as accuracy, precision, recall, F1-score and confusion matrices, allows for a comprehensive assessment of the logistic regression model's performance. This evaluation provides a well-rounded understanding of its strengths and weaknesses.\n",
        "\n",
        "**5. Addressing Class Imbalance:**\n",
        "   - In the realm of financial risk analytics, imbalanced datasets are common, with a significantly smaller number of defaults compared to non-defaults. Employing techniques like oversampling, undersampling, and appropriate evaluation metrics helps mitigate the challenges posed by class imbalance.\n",
        "\n",
        "**6. Informed Decision-Making:**\n",
        "   - Logistic regression models offer a systematic approach to risk assessment, enabling financial institutions to make informed decisions aligned with their risk tolerance and business objectives. This includes setting appropriate thresholds for decision-making.\n",
        "\n",
        "**7. Regulatory Compliance:**\n",
        "   - Logistic regression models can be instrumental in achieving regulatory compliance, as they assist in monitoring and reporting risk exposure, capital adequacy, and stress testing. They play a crucial role in adhering to financial regulations and industry standards.\n",
        "\n",
        "**8. Ethical Considerations:**\n",
        "   - Responsible and ethical use of logistic regression models is paramount. Proactively addressing and mitigating biases in both data and model outputs is essential to ensure fair lending practices and prevent discrimination against protected groups.\n",
        "\n",
        "**9. Ongoing Model Monitoring and Adaptation:**\n",
        "   - Financial risk is dynamic, and models must be continuously monitored and updated to adapt to changing market conditions, regulatory revisions, and evolving customer behaviors. A proactive approach to model maintenance is crucial for sustained accuracy.\n",
        "\n",
        "**10. Future Prospects:**\n",
        "   - Logistic regression, as a cornerstone of financial risk analytics, will continue to evolve in response to technological advancements and changing data landscapes. Future endeavors might explore hybrid models that combine logistic regression with other advanced machine learning techniques for even more accurate risk estimation.\n",
        "\n",
        "In summary, logistic regression stands as a formidable tool in financial risk analytics, offering accuracy, transparency, and interpretability. When used responsibly and integrated with other risk management strategies, it empowers financial institutions to make sound lending decisions, effectively manage risk, and maintain regulatory compliance. The insights and methodologies presented in this report serve as a strong foundation for harnessing logistic regression in the context of estimating the probability of default, while recognizing the imperative for continuous improvement and adaptation in the ever-evolving financial landscape."
      ],
      "metadata": {
        "id": "gNijTfJajs5z"
      }
    },
    {
      "cell_type": "code",
      "source": [],
      "metadata": {
        "id": "6VBmtB83lX7G"
      },
      "execution_count": null,
      "outputs": []
    }
  ]
}